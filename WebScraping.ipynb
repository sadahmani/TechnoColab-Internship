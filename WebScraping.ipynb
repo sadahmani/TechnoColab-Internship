{
 "cells": [
  {
   "cell_type": "code",
   "execution_count": 2,
   "source": [
    "import tweepy \n",
    "import webbrowser\n",
    "import time\n",
    "import csv\n",
    "import pandas as pd \n",
    "import datetime\n",
    "import xlsxwriter\n",
    "import snscrape.modules.twitter as sntwitter"
   ],
   "outputs": [],
   "metadata": {}
  },
  {
   "cell_type": "code",
   "execution_count": 4,
   "source": [
    "consumer_key=\"JiIfPW6oeNVAiftxDFgDtJUKZ\"\n",
    "consumer_secret=\"vAsDzAFxJTCoIhYKOvmaDYMFdsUjZy3nPtLBIzqSmc5CSejuwJ\""
   ],
   "outputs": [],
   "metadata": {}
  },
  {
   "cell_type": "code",
   "execution_count": 5,
   "source": [
    "callback_uri='oob' # https://cfe.sh/twitter/callback"
   ],
   "outputs": [],
   "metadata": {}
  },
  {
   "cell_type": "code",
   "execution_count": 6,
   "source": [
    "auth=tweepy.OAuthHandler(consumer_key, consumer_secret,callback_uri)\n",
    "redirect_url=auth.get_authorization_url()\n",
    "print(redirect_url)"
   ],
   "outputs": [
    {
     "output_type": "stream",
     "name": "stdout",
     "text": [
      "https://api.twitter.com/oauth/authorize?oauth_token=UmvAyQAAAAABT5CKAAABfA30j2w\n"
     ]
    }
   ],
   "metadata": {}
  },
  {
   "cell_type": "code",
   "execution_count": 7,
   "source": [
    "webbrowser.open(redirect_url)"
   ],
   "outputs": [
    {
     "output_type": "execute_result",
     "data": {
      "text/plain": [
       "True"
      ]
     },
     "metadata": {},
     "execution_count": 7
    }
   ],
   "metadata": {}
  },
  {
   "cell_type": "code",
   "execution_count": 8,
   "source": [
    "user_pint_input=input(\"what's the pin value\")"
   ],
   "outputs": [],
   "metadata": {}
  },
  {
   "cell_type": "code",
   "execution_count": 9,
   "source": [
    "user_pint_input"
   ],
   "outputs": [
    {
     "output_type": "execute_result",
     "data": {
      "text/plain": [
       "'7045810'"
      ]
     },
     "metadata": {},
     "execution_count": 9
    }
   ],
   "metadata": {}
  },
  {
   "cell_type": "code",
   "execution_count": 10,
   "source": [
    "auth.get_access_token(user_pint_input)"
   ],
   "outputs": [
    {
     "output_type": "execute_result",
     "data": {
      "text/plain": [
       "('1673560590-TypWnKGlNani1zPMOQ1XNO5A7sJ5kovUin5H3cM',\n",
       " 'LjOKmMKLTynb6nkSRHfEgrkQAY1wDpAbqJoB8OAq7zKXo')"
      ]
     },
     "metadata": {},
     "execution_count": 10
    }
   ],
   "metadata": {}
  },
  {
   "cell_type": "code",
   "execution_count": 9,
   "source": [
    "print(auth.access_token,auth.access_token_secret)"
   ],
   "outputs": [
    {
     "output_type": "stream",
     "name": "stdout",
     "text": [
      "1673560590-TypWnKGlNani1zPMOQ1XNO5A7sJ5kovUin5H3cM LjOKmMKLTynb6nkSRHfEgrkQAY1wDpAbqJoB8OAq7zKXo\n"
     ]
    }
   ],
   "metadata": {}
  },
  {
   "cell_type": "code",
   "execution_count": 10,
   "source": [
    "api=tweepy.API(auth)"
   ],
   "outputs": [],
   "metadata": {}
  },
  {
   "cell_type": "code",
   "execution_count": 11,
   "source": [
    "me=api.me()\n"
   ],
   "outputs": [],
   "metadata": {}
  },
  {
   "cell_type": "code",
   "execution_count": 12,
   "source": [
    "print(me.screen_name)"
   ],
   "outputs": [
    {
     "output_type": "stream",
     "name": "stdout",
     "text": [
      "Dahmani1809\n"
     ]
    }
   ],
   "metadata": {}
  },
  {
   "cell_type": "code",
   "execution_count": 43,
   "source": [
    "startDate = datetime.datetime(2021, 1, 1, 0, 0, 0)\n",
    "endDate =   datetime.datetime(2021, 9, 19, 0, 0, 0)"
   ],
   "outputs": [],
   "metadata": {}
  },
  {
   "cell_type": "code",
   "execution_count": 13,
   "source": [
    "\n",
    "# Creating list to append tweet data to\n",
    "tweets_list2 = []\n",
    "\n",
    "# Using TwitterSearchScraper to scrape data and append tweets to list\n",
    "for i,tweet in enumerate(sntwitter.TwitterSearchScraper('AAPL since:2021-04-01 until:2021-04-30 lang:en').get_items()):\n",
    "    # if i>5000:\n",
    "    #     break\n",
    "    tweets_list2.append([tweet.date, tweet.content])\n",
    "    \n",
    "# Creating a dataframe from the tweets list above\n",
    "apr = pd.DataFrame(tweets_list2, columns=['Datetime', 'Text'])\n",
    "apr.to_csv('result.csv', sep=',', index=False)"
   ],
   "outputs": [],
   "metadata": {}
  },
  {
   "cell_type": "code",
   "execution_count": null,
   "source": [],
   "outputs": [],
   "metadata": {}
  }
 ],
 "metadata": {
  "orig_nbformat": 4,
  "language_info": {
   "name": "python",
   "version": "3.8.8",
   "mimetype": "text/x-python",
   "codemirror_mode": {
    "name": "ipython",
    "version": 3
   },
   "pygments_lexer": "ipython3",
   "nbconvert_exporter": "python",
   "file_extension": ".py"
  },
  "kernelspec": {
   "name": "python3",
   "display_name": "Python 3.8.8 64-bit ('base': conda)"
  },
  "interpreter": {
   "hash": "d1517d6daa919a7c6665135e311042068b375e660c838512ed3b11ae7e68eb8a"
  }
 },
 "nbformat": 4,
 "nbformat_minor": 2
}