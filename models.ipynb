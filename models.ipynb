{
 "cells": [
  {
   "cell_type": "markdown",
   "source": [
    "# MODELLING"
   ],
   "metadata": {}
  },
  {
   "cell_type": "markdown",
   "source": [
    "** import the libraries **"
   ],
   "metadata": {}
  },
  {
   "cell_type": "code",
   "execution_count": 1,
   "source": [
    "import pandas as pd\n",
    "import numpy as np\n",
    "import seaborn as sns"
   ],
   "outputs": [],
   "metadata": {}
  },
  {
   "cell_type": "code",
   "execution_count": 12,
   "source": [
    "df = pd.read_csv('Twitter_stock_final_dataset.csv')\n"
   ],
   "outputs": [],
   "metadata": {}
  },
  {
   "cell_type": "code",
   "execution_count": 13,
   "source": [
    "df.head()"
   ],
   "outputs": [
    {
     "output_type": "execute_result",
     "data": {
      "text/html": [
       "<div>\n",
       "<style scoped>\n",
       "    .dataframe tbody tr th:only-of-type {\n",
       "        vertical-align: middle;\n",
       "    }\n",
       "\n",
       "    .dataframe tbody tr th {\n",
       "        vertical-align: top;\n",
       "    }\n",
       "\n",
       "    .dataframe thead th {\n",
       "        text-align: right;\n",
       "    }\n",
       "</style>\n",
       "<table border=\"1\" class=\"dataframe\">\n",
       "  <thead>\n",
       "    <tr style=\"text-align: right;\">\n",
       "      <th></th>\n",
       "      <th>Year</th>\n",
       "      <th>Month</th>\n",
       "      <th>Day</th>\n",
       "      <th>StockName</th>\n",
       "      <th>Positive</th>\n",
       "      <th>Negative</th>\n",
       "      <th>Neutral</th>\n",
       "      <th>Total Tweets</th>\n",
       "      <th>Close</th>\n",
       "      <th>Volume</th>\n",
       "      <th>Open</th>\n",
       "      <th>High</th>\n",
       "      <th>Low</th>\n",
       "      <th>Day_of_week</th>\n",
       "    </tr>\n",
       "  </thead>\n",
       "  <tbody>\n",
       "    <tr>\n",
       "      <th>0</th>\n",
       "      <td>2020</td>\n",
       "      <td>1</td>\n",
       "      <td>1</td>\n",
       "      <td>apple</td>\n",
       "      <td>10</td>\n",
       "      <td>2</td>\n",
       "      <td>8</td>\n",
       "      <td>20</td>\n",
       "      <td>75.0875</td>\n",
       "      <td>135647440.0</td>\n",
       "      <td>74.0600</td>\n",
       "      <td>75.1500</td>\n",
       "      <td>73.7975</td>\n",
       "      <td>Wednesday</td>\n",
       "    </tr>\n",
       "    <tr>\n",
       "      <th>1</th>\n",
       "      <td>2020</td>\n",
       "      <td>1</td>\n",
       "      <td>1</td>\n",
       "      <td>microsoft</td>\n",
       "      <td>9</td>\n",
       "      <td>0</td>\n",
       "      <td>11</td>\n",
       "      <td>20</td>\n",
       "      <td>160.6200</td>\n",
       "      <td>22634550.0</td>\n",
       "      <td>158.7800</td>\n",
       "      <td>160.7300</td>\n",
       "      <td>158.3300</td>\n",
       "      <td>Wednesday</td>\n",
       "    </tr>\n",
       "    <tr>\n",
       "      <th>2</th>\n",
       "      <td>2020</td>\n",
       "      <td>1</td>\n",
       "      <td>1</td>\n",
       "      <td>tesla</td>\n",
       "      <td>17</td>\n",
       "      <td>3</td>\n",
       "      <td>3</td>\n",
       "      <td>23</td>\n",
       "      <td>86.0520</td>\n",
       "      <td>47791930.0</td>\n",
       "      <td>84.9000</td>\n",
       "      <td>86.1391</td>\n",
       "      <td>84.3420</td>\n",
       "      <td>Wednesday</td>\n",
       "    </tr>\n",
       "    <tr>\n",
       "      <th>3</th>\n",
       "      <td>2020</td>\n",
       "      <td>1</td>\n",
       "      <td>1</td>\n",
       "      <td>nvidia</td>\n",
       "      <td>1</td>\n",
       "      <td>0</td>\n",
       "      <td>0</td>\n",
       "      <td>1</td>\n",
       "      <td>59.9775</td>\n",
       "      <td>23767876.0</td>\n",
       "      <td>59.6875</td>\n",
       "      <td>59.9775</td>\n",
       "      <td>59.1800</td>\n",
       "      <td>Wednesday</td>\n",
       "    </tr>\n",
       "    <tr>\n",
       "      <th>4</th>\n",
       "      <td>2020</td>\n",
       "      <td>1</td>\n",
       "      <td>1</td>\n",
       "      <td>paypal</td>\n",
       "      <td>1</td>\n",
       "      <td>0</td>\n",
       "      <td>1</td>\n",
       "      <td>2</td>\n",
       "      <td>110.7500</td>\n",
       "      <td>7419283.0</td>\n",
       "      <td>109.4700</td>\n",
       "      <td>111.2100</td>\n",
       "      <td>109.2750</td>\n",
       "      <td>Wednesday</td>\n",
       "    </tr>\n",
       "  </tbody>\n",
       "</table>\n",
       "</div>"
      ],
      "text/plain": [
       "   Year  Month  Day  StockName  Positive  Negative  Neutral  Total Tweets  \\\n",
       "0  2020      1    1      apple        10         2        8            20   \n",
       "1  2020      1    1  microsoft         9         0       11            20   \n",
       "2  2020      1    1      tesla        17         3        3            23   \n",
       "3  2020      1    1     nvidia         1         0        0             1   \n",
       "4  2020      1    1     paypal         1         0        1             2   \n",
       "\n",
       "      Close       Volume      Open      High       Low Day_of_week  \n",
       "0   75.0875  135647440.0   74.0600   75.1500   73.7975   Wednesday  \n",
       "1  160.6200   22634550.0  158.7800  160.7300  158.3300   Wednesday  \n",
       "2   86.0520   47791930.0   84.9000   86.1391   84.3420   Wednesday  \n",
       "3   59.9775   23767876.0   59.6875   59.9775   59.1800   Wednesday  \n",
       "4  110.7500    7419283.0  109.4700  111.2100  109.2750   Wednesday  "
      ]
     },
     "metadata": {},
     "execution_count": 13
    }
   ],
   "metadata": {}
  },
  {
   "cell_type": "code",
   "execution_count": 4,
   "source": [
    "df.dtypes"
   ],
   "outputs": [
    {
     "output_type": "execute_result",
     "data": {
      "text/plain": [
       "Year              int64\n",
       "Month             int64\n",
       "Day               int64\n",
       "StockName        object\n",
       "Positive          int64\n",
       "Negative          int64\n",
       "Neutral           int64\n",
       "Total Tweets      int64\n",
       "Close           float64\n",
       "Volume          float64\n",
       "Open            float64\n",
       "High            float64\n",
       "Low             float64\n",
       "Day_of_week      object\n",
       "dtype: object"
      ]
     },
     "metadata": {},
     "execution_count": 4
    }
   ],
   "metadata": {}
  },
  {
   "cell_type": "code",
   "execution_count": 5,
   "source": [
    "df.isnull().sum()"
   ],
   "outputs": [
    {
     "output_type": "execute_result",
     "data": {
      "text/plain": [
       "Year            0\n",
       "Month           0\n",
       "Day             0\n",
       "StockName       0\n",
       "Positive        0\n",
       "Negative        0\n",
       "Neutral         0\n",
       "Total Tweets    0\n",
       "Close           0\n",
       "Volume          0\n",
       "Open            0\n",
       "High            0\n",
       "Low             0\n",
       "Day_of_week     0\n",
       "dtype: int64"
      ]
     },
     "metadata": {},
     "execution_count": 5
    }
   ],
   "metadata": {}
  },
  {
   "cell_type": "markdown",
   "source": [
    "<h4> feature engineering </h4>"
   ],
   "metadata": {}
  },
  {
   "cell_type": "code",
   "execution_count": 6,
   "source": [
    "df.corr() # correlation"
   ],
   "outputs": [
    {
     "output_type": "execute_result",
     "data": {
      "text/html": [
       "<div>\n",
       "<style scoped>\n",
       "    .dataframe tbody tr th:only-of-type {\n",
       "        vertical-align: middle;\n",
       "    }\n",
       "\n",
       "    .dataframe tbody tr th {\n",
       "        vertical-align: top;\n",
       "    }\n",
       "\n",
       "    .dataframe thead th {\n",
       "        text-align: right;\n",
       "    }\n",
       "</style>\n",
       "<table border=\"1\" class=\"dataframe\">\n",
       "  <thead>\n",
       "    <tr style=\"text-align: right;\">\n",
       "      <th></th>\n",
       "      <th>Year</th>\n",
       "      <th>Month</th>\n",
       "      <th>Day</th>\n",
       "      <th>Positive</th>\n",
       "      <th>Negative</th>\n",
       "      <th>Neutral</th>\n",
       "      <th>Total Tweets</th>\n",
       "      <th>Close</th>\n",
       "      <th>Volume</th>\n",
       "      <th>Open</th>\n",
       "      <th>High</th>\n",
       "      <th>Low</th>\n",
       "    </tr>\n",
       "  </thead>\n",
       "  <tbody>\n",
       "    <tr>\n",
       "      <th>Year</th>\n",
       "      <td>1.000000</td>\n",
       "      <td>-0.258174</td>\n",
       "      <td>-0.023178</td>\n",
       "      <td>0.022999</td>\n",
       "      <td>0.078817</td>\n",
       "      <td>0.078385</td>\n",
       "      <td>0.069508</td>\n",
       "      <td>0.403152</td>\n",
       "      <td>-0.286026</td>\n",
       "      <td>0.404572</td>\n",
       "      <td>0.399621</td>\n",
       "      <td>0.408980</td>\n",
       "    </tr>\n",
       "    <tr>\n",
       "      <th>Month</th>\n",
       "      <td>-0.258174</td>\n",
       "      <td>1.000000</td>\n",
       "      <td>-0.012057</td>\n",
       "      <td>0.003974</td>\n",
       "      <td>-0.018233</td>\n",
       "      <td>-0.060243</td>\n",
       "      <td>-0.040026</td>\n",
       "      <td>0.086547</td>\n",
       "      <td>-0.079436</td>\n",
       "      <td>0.085500</td>\n",
       "      <td>0.083239</td>\n",
       "      <td>0.087158</td>\n",
       "    </tr>\n",
       "    <tr>\n",
       "      <th>Day</th>\n",
       "      <td>-0.023178</td>\n",
       "      <td>-0.012057</td>\n",
       "      <td>1.000000</td>\n",
       "      <td>0.000881</td>\n",
       "      <td>-0.004657</td>\n",
       "      <td>0.025214</td>\n",
       "      <td>0.015960</td>\n",
       "      <td>0.006653</td>\n",
       "      <td>0.004501</td>\n",
       "      <td>0.004983</td>\n",
       "      <td>0.005126</td>\n",
       "      <td>0.006218</td>\n",
       "    </tr>\n",
       "    <tr>\n",
       "      <th>Positive</th>\n",
       "      <td>0.022999</td>\n",
       "      <td>0.003974</td>\n",
       "      <td>0.000881</td>\n",
       "      <td>1.000000</td>\n",
       "      <td>0.913974</td>\n",
       "      <td>0.567013</td>\n",
       "      <td>0.842240</td>\n",
       "      <td>0.540999</td>\n",
       "      <td>0.253104</td>\n",
       "      <td>0.540088</td>\n",
       "      <td>0.547544</td>\n",
       "      <td>0.532495</td>\n",
       "    </tr>\n",
       "    <tr>\n",
       "      <th>Negative</th>\n",
       "      <td>0.078817</td>\n",
       "      <td>-0.018233</td>\n",
       "      <td>-0.004657</td>\n",
       "      <td>0.913974</td>\n",
       "      <td>1.000000</td>\n",
       "      <td>0.542693</td>\n",
       "      <td>0.808152</td>\n",
       "      <td>0.547786</td>\n",
       "      <td>0.181870</td>\n",
       "      <td>0.548210</td>\n",
       "      <td>0.555015</td>\n",
       "      <td>0.539467</td>\n",
       "    </tr>\n",
       "    <tr>\n",
       "      <th>Neutral</th>\n",
       "      <td>0.078385</td>\n",
       "      <td>-0.060243</td>\n",
       "      <td>0.025214</td>\n",
       "      <td>0.567013</td>\n",
       "      <td>0.542693</td>\n",
       "      <td>1.000000</td>\n",
       "      <td>0.919269</td>\n",
       "      <td>0.359389</td>\n",
       "      <td>0.134897</td>\n",
       "      <td>0.358764</td>\n",
       "      <td>0.363237</td>\n",
       "      <td>0.353223</td>\n",
       "    </tr>\n",
       "    <tr>\n",
       "      <th>Total Tweets</th>\n",
       "      <td>0.069508</td>\n",
       "      <td>-0.040026</td>\n",
       "      <td>0.015960</td>\n",
       "      <td>0.842240</td>\n",
       "      <td>0.808152</td>\n",
       "      <td>0.919269</td>\n",
       "      <td>1.000000</td>\n",
       "      <td>0.496966</td>\n",
       "      <td>0.200829</td>\n",
       "      <td>0.496301</td>\n",
       "      <td>0.502737</td>\n",
       "      <td>0.488859</td>\n",
       "    </tr>\n",
       "    <tr>\n",
       "      <th>Close</th>\n",
       "      <td>0.403152</td>\n",
       "      <td>0.086547</td>\n",
       "      <td>0.006653</td>\n",
       "      <td>0.540999</td>\n",
       "      <td>0.547786</td>\n",
       "      <td>0.359389</td>\n",
       "      <td>0.496966</td>\n",
       "      <td>1.000000</td>\n",
       "      <td>-0.311128</td>\n",
       "      <td>0.999192</td>\n",
       "      <td>0.999160</td>\n",
       "      <td>0.999518</td>\n",
       "    </tr>\n",
       "    <tr>\n",
       "      <th>Volume</th>\n",
       "      <td>-0.286026</td>\n",
       "      <td>-0.079436</td>\n",
       "      <td>0.004501</td>\n",
       "      <td>0.253104</td>\n",
       "      <td>0.181870</td>\n",
       "      <td>0.134897</td>\n",
       "      <td>0.200829</td>\n",
       "      <td>-0.311128</td>\n",
       "      <td>1.000000</td>\n",
       "      <td>-0.311808</td>\n",
       "      <td>-0.305686</td>\n",
       "      <td>-0.317562</td>\n",
       "    </tr>\n",
       "    <tr>\n",
       "      <th>Open</th>\n",
       "      <td>0.404572</td>\n",
       "      <td>0.085500</td>\n",
       "      <td>0.004983</td>\n",
       "      <td>0.540088</td>\n",
       "      <td>0.548210</td>\n",
       "      <td>0.358764</td>\n",
       "      <td>0.496301</td>\n",
       "      <td>0.999192</td>\n",
       "      <td>-0.311808</td>\n",
       "      <td>1.000000</td>\n",
       "      <td>0.999186</td>\n",
       "      <td>0.999494</td>\n",
       "    </tr>\n",
       "    <tr>\n",
       "      <th>High</th>\n",
       "      <td>0.399621</td>\n",
       "      <td>0.083239</td>\n",
       "      <td>0.005126</td>\n",
       "      <td>0.547544</td>\n",
       "      <td>0.555015</td>\n",
       "      <td>0.363237</td>\n",
       "      <td>0.502737</td>\n",
       "      <td>0.999160</td>\n",
       "      <td>-0.305686</td>\n",
       "      <td>0.999186</td>\n",
       "      <td>1.000000</td>\n",
       "      <td>0.998766</td>\n",
       "    </tr>\n",
       "    <tr>\n",
       "      <th>Low</th>\n",
       "      <td>0.408980</td>\n",
       "      <td>0.087158</td>\n",
       "      <td>0.006218</td>\n",
       "      <td>0.532495</td>\n",
       "      <td>0.539467</td>\n",
       "      <td>0.353223</td>\n",
       "      <td>0.488859</td>\n",
       "      <td>0.999518</td>\n",
       "      <td>-0.317562</td>\n",
       "      <td>0.999494</td>\n",
       "      <td>0.998766</td>\n",
       "      <td>1.000000</td>\n",
       "    </tr>\n",
       "  </tbody>\n",
       "</table>\n",
       "</div>"
      ],
      "text/plain": [
       "                  Year     Month       Day  Positive  Negative   Neutral  \\\n",
       "Year          1.000000 -0.258174 -0.023178  0.022999  0.078817  0.078385   \n",
       "Month        -0.258174  1.000000 -0.012057  0.003974 -0.018233 -0.060243   \n",
       "Day          -0.023178 -0.012057  1.000000  0.000881 -0.004657  0.025214   \n",
       "Positive      0.022999  0.003974  0.000881  1.000000  0.913974  0.567013   \n",
       "Negative      0.078817 -0.018233 -0.004657  0.913974  1.000000  0.542693   \n",
       "Neutral       0.078385 -0.060243  0.025214  0.567013  0.542693  1.000000   \n",
       "Total Tweets  0.069508 -0.040026  0.015960  0.842240  0.808152  0.919269   \n",
       "Close         0.403152  0.086547  0.006653  0.540999  0.547786  0.359389   \n",
       "Volume       -0.286026 -0.079436  0.004501  0.253104  0.181870  0.134897   \n",
       "Open          0.404572  0.085500  0.004983  0.540088  0.548210  0.358764   \n",
       "High          0.399621  0.083239  0.005126  0.547544  0.555015  0.363237   \n",
       "Low           0.408980  0.087158  0.006218  0.532495  0.539467  0.353223   \n",
       "\n",
       "              Total Tweets     Close    Volume      Open      High       Low  \n",
       "Year              0.069508  0.403152 -0.286026  0.404572  0.399621  0.408980  \n",
       "Month            -0.040026  0.086547 -0.079436  0.085500  0.083239  0.087158  \n",
       "Day               0.015960  0.006653  0.004501  0.004983  0.005126  0.006218  \n",
       "Positive          0.842240  0.540999  0.253104  0.540088  0.547544  0.532495  \n",
       "Negative          0.808152  0.547786  0.181870  0.548210  0.555015  0.539467  \n",
       "Neutral           0.919269  0.359389  0.134897  0.358764  0.363237  0.353223  \n",
       "Total Tweets      1.000000  0.496966  0.200829  0.496301  0.502737  0.488859  \n",
       "Close             0.496966  1.000000 -0.311128  0.999192  0.999160  0.999518  \n",
       "Volume            0.200829 -0.311128  1.000000 -0.311808 -0.305686 -0.317562  \n",
       "Open              0.496301  0.999192 -0.311808  1.000000  0.999186  0.999494  \n",
       "High              0.502737  0.999160 -0.305686  0.999186  1.000000  0.998766  \n",
       "Low               0.488859  0.999518 -0.317562  0.999494  0.998766  1.000000  "
      ]
     },
     "metadata": {},
     "execution_count": 6
    }
   ],
   "metadata": {}
  },
  {
   "cell_type": "markdown",
   "source": [
    "find the correlation between total tweets and close"
   ],
   "metadata": {}
  },
  {
   "cell_type": "code",
   "execution_count": 18,
   "source": [
    "sns.displot(df, x=\"Volume\", y=\"Close\")"
   ],
   "outputs": [
    {
     "output_type": "execute_result",
     "data": {
      "text/plain": [
       "<seaborn.axisgrid.FacetGrid at 0x7fcd788c93a0>"
      ]
     },
     "metadata": {},
     "execution_count": 18
    },
    {
     "output_type": "display_data",
     "data": {
      "image/png": "[encoded data removed]",
      "text/plain": [
       "<Figure size 360x360 with 1 Axes>"
      ]
     },
     "metadata": {
      "needs_background": "light"
     }
    }
   ],
   "metadata": {}
  },
  {
   "cell_type": "code",
   "execution_count": 7,
   "source": [
    "print(df[['Volume','Close']].corr())\n",
    "sns.regplot(x = 'Volume', y = 'Close', data =df)"
   ],
   "outputs": [
    {
     "output_type": "stream",
     "name": "stdout",
     "text": [
      "          Volume     Close\n",
      "Volume  1.000000 -0.311128\n",
      "Close  -0.311128  1.000000\n"
     ]
    },
    {
     "output_type": "execute_result",
     "data": {
      "text/plain": [
       "<AxesSubplot:xlabel='Volume', ylabel='Close'>"
      ]
     },
     "metadata": {},
     "execution_count": 7
    },
    {
     "output_type": "display_data",
     "data": {
      "image/png": "[encoded data removed]",
      "text/plain": [
       "<Figure size 432x288 with 1 Axes>"
      ]
     },
     "metadata": {
      "needs_background": "light"
     }
    }
   ],
   "metadata": {}
  },
  {
   "cell_type": "code",
   "execution_count": 8,
   "source": [
    "print(df[['Open','Close']].corr())\n",
    "sns.regplot(x = 'Open', y = 'Close', data = df)"
   ],
   "outputs": [
    {
     "output_type": "stream",
     "name": "stdout",
     "text": [
      "           Open     Close\n",
      "Open   1.000000  0.999192\n",
      "Close  0.999192  1.000000\n"
     ]
    },
    {
     "output_type": "execute_result",
     "data": {
      "text/plain": [
       "<AxesSubplot:xlabel='Open', ylabel='Close'>"
      ]
     },
     "metadata": {},
     "execution_count": 8
    },
    {
     "output_type": "display_data",
     "data": {
      "image/png": "[encoded data removed]",
      "text/plain": [
       "<Figure size 432x288 with 1 Axes>"
      ]
     },
     "metadata": {
      "needs_background": "light"
     }
    }
   ],
   "metadata": {}
  },
  {
   "cell_type": "code",
   "execution_count": 9,
   "source": [
    "print(df[['High','Close']].corr())\n",
    "sns.regplot(x = 'High', y = 'Close', data = df)"
   ],
   "outputs": [
    {
     "output_type": "stream",
     "name": "stdout",
     "text": [
      "          High    Close\n",
      "High   1.00000  0.99916\n",
      "Close  0.99916  1.00000\n"
     ]
    },
    {
     "output_type": "execute_result",
     "data": {
      "text/plain": [
       "<AxesSubplot:xlabel='High', ylabel='Close'>"
      ]
     },
     "metadata": {},
     "execution_count": 9
    },
    {
     "output_type": "display_data",
     "data": {
      "image/png": "[encoded data removed]",
      "text/plain": [
       "<Figure size 432x288 with 1 Axes>"
      ]
     },
     "metadata": {
      "needs_background": "light"
     }
    }
   ],
   "metadata": {}
  },
  {
   "cell_type": "code",
   "execution_count": 10,
   "source": [
    "print(df[['Low','Close']].corr())\n",
    "sns.regplot(x = 'Low', y = 'Close', data = df)"
   ],
   "outputs": [
    {
     "output_type": "stream",
     "name": "stdout",
     "text": [
      "            Low     Close\n",
      "Low    1.000000  0.999518\n",
      "Close  0.999518  1.000000\n"
     ]
    },
    {
     "output_type": "execute_result",
     "data": {
      "text/plain": [
       "<AxesSubplot:xlabel='Low', ylabel='Close'>"
      ]
     },
     "metadata": {},
     "execution_count": 10
    },
    {
     "output_type": "display_data",
     "data": {
      "image/png": "[encoded data removed]",
      "text/plain": [
       "<Figure size 432x288 with 1 Axes>"
      ]
     },
     "metadata": {
      "needs_background": "light"
     }
    }
   ],
   "metadata": {}
  },
  {
   "cell_type": "markdown",
   "source": [
    "<p>As the Open, High and Low prices goes up, the Close price also goes up: this indicates a positive direct correlation with Close price. Open, High and Low prices seem like pretty good predictors of price since the regression line is almost a perfect diagonal line.</p>\n",
    "\n",
    "<p>We shall also examine columns that are associalted with the micro headlines</p>"
   ],
   "metadata": {}
  },
  {
   "cell_type": "code",
   "execution_count": 69,
   "source": [
    "print(df[['Total Tweets','Close']].corr())\n",
    "sns.regplot(x = 'Total Tweets', y = 'Close', data = df)"
   ],
   "outputs": [
    {
     "output_type": "stream",
     "name": "stdout",
     "text": [
      "              Total Tweets     Close\n",
      "Total Tweets      1.000000  0.496966\n",
      "Close             0.496966  1.000000\n"
     ]
    },
    {
     "output_type": "execute_result",
     "data": {
      "text/plain": [
       "<AxesSubplot:xlabel='Total Tweets', ylabel='Close'>"
      ]
     },
     "metadata": {},
     "execution_count": 69
    },
    {
     "output_type": "display_data",
     "data": {
      "image/png": "[encoded data removed]",
      "text/plain": [
       "<Figure size 432x288 with 1 Axes>"
      ]
     },
     "metadata": {
      "needs_background": "light"
     }
    }
   ],
   "metadata": {}
  },
  {
   "cell_type": "code",
   "execution_count": 70,
   "source": [
    "print(df[['Positive','Close']].corr())\n",
    "sns.regplot(x = 'Positive', y = 'Close', data = df)"
   ],
   "outputs": [
    {
     "output_type": "stream",
     "name": "stdout",
     "text": [
      "          Positive     Close\n",
      "Positive  1.000000  0.540999\n",
      "Close     0.540999  1.000000\n"
     ]
    },
    {
     "output_type": "execute_result",
     "data": {
      "text/plain": [
       "<AxesSubplot:xlabel='Positive', ylabel='Close'>"
      ]
     },
     "metadata": {},
     "execution_count": 70
    },
    {
     "output_type": "display_data",
     "data": {
      "image/png": "[encoded data removed]",
      "text/plain": [
       "<Figure size 432x288 with 1 Axes>"
      ]
     },
     "metadata": {
      "needs_background": "light"
     }
    }
   ],
   "metadata": {}
  },
  {
   "cell_type": "markdown",
   "source": [
    "<p> We find from some regression plots and correlation table that the macroheadlines (twitter) associated columns fairly correlate with the Close price. However, since our research involves prediction with macroheadlines (sentiment analysis), we shall also include the associated columns in our models. </p>"
   ],
   "metadata": {}
  },
  {
   "cell_type": "code",
   "execution_count": 14,
   "source": [
    "sns.boxplot(x=\"StockName\", y=\"Close\", data=df)"
   ],
   "outputs": [
    {
     "output_type": "execute_result",
     "data": {
      "text/plain": [
       "<AxesSubplot:xlabel='StockName', ylabel='Close'>"
      ]
     },
     "metadata": {},
     "execution_count": 14
    },
    {
     "output_type": "display_data",
     "data": {
      "image/png": "[encoded data removed]",
      "text/plain": [
       "<Figure size 432x288 with 1 Axes>"
      ]
     },
     "metadata": {
      "needs_background": "light"
     }
    }
   ],
   "metadata": {}
  },
  {
   "cell_type": "code",
   "execution_count": 15,
   "source": [
    "sns.boxplot(x=\"Day_of_week\", y=\"Close\", data=df)"
   ],
   "outputs": [
    {
     "output_type": "execute_result",
     "data": {
      "text/plain": [
       "<AxesSubplot:xlabel='Day_of_week', ylabel='Close'>"
      ]
     },
     "metadata": {},
     "execution_count": 15
    },
    {
     "output_type": "display_data",
     "data": {
      "image/png": "[encoded data removed]",
      "text/plain": [
       "<Figure size 432x288 with 1 Axes>"
      ]
     },
     "metadata": {
      "needs_background": "light"
     }
    }
   ],
   "metadata": {}
  },
  {
   "cell_type": "markdown",
   "source": [
    "<h4> feature selection </h4>\n",
    "<p> Our feature selection involves selecting close columns as response variable (y) and all the other columns as independent variables (X)</p>\n"
   ],
   "metadata": {}
  },
  {
   "cell_type": "code",
   "execution_count": 19,
   "source": [
    "y = df.loc[:, 'Close'].values"
   ],
   "outputs": [],
   "metadata": {}
  },
  {
   "cell_type": "code",
   "execution_count": 20,
   "source": [
    "y"
   ],
   "outputs": [
    {
     "output_type": "execute_result",
     "data": {
      "text/plain": [
       "array([ 75.0875, 160.62  ,  86.052 , ..., 269.91  , 212.46  , 269.49  ])"
      ]
     },
     "metadata": {},
     "execution_count": 20
    }
   ],
   "metadata": {}
  },
  {
   "cell_type": "code",
   "execution_count": 21,
   "source": [
    "X = df.drop('Close', axis = 1).values"
   ],
   "outputs": [],
   "metadata": {}
  },
  {
   "cell_type": "code",
   "execution_count": 22,
   "source": [
    "X"
   ],
   "outputs": [
    {
     "output_type": "execute_result",
     "data": {
      "text/plain": [
       "array([[2020, 1, 1, ..., 75.15, 73.7975, 'Wednesday'],\n",
       "       [2020, 1, 1, ..., 160.73, 158.33, 'Wednesday'],\n",
       "       [2020, 1, 1, ..., 86.1391, 84.342, 'Wednesday'],\n",
       "       ...,\n",
       "       [2021, 9, 20, ..., 273.0, 265.68, 'Monday'],\n",
       "       [2021, 9, 21, ..., 214.25, 209.5, 'Tuesday'],\n",
       "       [2021, 9, 21, ..., 272.2986, 267.8, 'Tuesday']], dtype=object)"
      ]
     },
     "metadata": {},
     "execution_count": 22
    }
   ],
   "metadata": {}
  },
  {
   "cell_type": "markdown",
   "source": [
    "<h3> Encoding the Categorical variables </h3>\n",
    "\n",
    "* Label encoding: <p> for the tree based alrorithms such as decision tree and random forest </p>\n",
    "* One hot encoding: <p> for linear models, SVMs, or ensemble methods as their data needs to be standardized. </p>"
   ],
   "metadata": {}
  },
  {
   "cell_type": "code",
   "execution_count": 23,
   "source": [
    "# Encoding the Independent or ohject variable Day_of_week\n",
    "from sklearn.preprocessing import LabelEncoder, OneHotEncoder\n",
    "labelencoder_X = LabelEncoder()\n",
    "X[:, -1] = labelencoder_X.fit_transform(X[:, -1]) #Day_of_week\n",
    "\n",
    "X[:, 3] = labelencoder_X.fit_transform(X[:, 3]) #stockName"
   ],
   "outputs": [],
   "metadata": {}
  },
  {
   "cell_type": "code",
   "execution_count": 24,
   "source": [
    "X"
   ],
   "outputs": [
    {
     "output_type": "execute_result",
     "data": {
      "text/plain": [
       "array([[2020, 1, 1, ..., 75.15, 73.7975, 6],\n",
       "       [2020, 1, 1, ..., 160.73, 158.33, 6],\n",
       "       [2020, 1, 1, ..., 86.1391, 84.342, 6],\n",
       "       ...,\n",
       "       [2021, 9, 20, ..., 273.0, 265.68, 1],\n",
       "       [2021, 9, 21, ..., 214.25, 209.5, 5],\n",
       "       [2021, 9, 21, ..., 272.2986, 267.8, 5]], dtype=object)"
      ]
     },
     "metadata": {},
     "execution_count": 24
    }
   ],
   "metadata": {}
  },
  {
   "cell_type": "markdown",
   "source": [
    "## MODELS  \n",
    "### ENSEMBLE MODELS\n",
    "<break>\n",
    "    </break>\n",
    "       <h4> DECISION TREE </h4> \n",
    "       <p>without standardizing"
   ],
   "metadata": {}
  },
  {
   "cell_type": "code",
   "execution_count": 25,
   "source": [
    "X_D = X #independent variables for decision tree\n",
    "y_D = y #Response variable for decision tree\n"
   ],
   "outputs": [],
   "metadata": {}
  },
  {
   "cell_type": "code",
   "execution_count": 26,
   "source": [
    "from sklearn import utils\n",
    "\n",
    "print(utils.multiclass.type_of_target(y_D))"
   ],
   "outputs": [
    {
     "output_type": "stream",
     "name": "stdout",
     "text": [
      "continuous\n"
     ]
    }
   ],
   "metadata": {}
  },
  {
   "cell_type": "markdown",
   "source": [
    "We cannot pass floats to a classifier which expects categorical values as the Response target vector. Therefore, we convert it to int it will be accepted as input."
   ],
   "metadata": {}
  },
  {
   "cell_type": "code",
   "execution_count": 27,
   "source": [
    "y_enc = LabelEncoder()\n",
    "y_DEncoded = y_enc.fit_transform(y_D)\n",
    "print(y_DEncoded)\n",
    "print(utils.multiclass.type_of_target(y_D))\n",
    "print(utils.multiclass.type_of_target(y_D.astype('int')))\n",
    "print(utils.multiclass.type_of_target(y_DEncoded))"
   ],
   "outputs": [
    {
     "output_type": "stream",
     "name": "stdout",
     "text": [
      "[ 198 1359  304 ... 2316 1865 2313]\n",
      "continuous\n",
      "multiclass\n",
      "multiclass\n"
     ]
    }
   ],
   "metadata": {}
  },
  {
   "cell_type": "markdown",
   "source": [
    "split the dataset into training and test."
   ],
   "metadata": {}
  },
  {
   "cell_type": "code",
   "execution_count": 28,
   "source": [
    "from sklearn.model_selection import train_test_split\n",
    "\n",
    "X_Dtrain, X_Dtest, y_Dtrain, y_Dtest =  train_test_split(X_D,y_DEncoded, test_size = 0.3, random_state= 0)"
   ],
   "outputs": [],
   "metadata": {}
  },
  {
   "cell_type": "markdown",
   "source": [
    "Fit the data in Decision tree classifier"
   ],
   "metadata": {}
  },
  {
   "cell_type": "code",
   "execution_count": 29,
   "source": [
    "from sklearn.tree import DecisionTreeClassifier\n",
    "\n",
    "classifier = DecisionTreeClassifier()\n",
    "classifier = classifier.fit(X_Dtrain,y_Dtrain) "
   ],
   "outputs": [],
   "metadata": {}
  },
  {
   "cell_type": "markdown",
   "source": [
    "Make prediction and check accuracy"
   ],
   "metadata": {}
  },
  {
   "cell_type": "code",
   "execution_count": 30,
   "source": [
    "#prediction\n",
    "y_DPred = classifier.predict(X_Dtest)\n",
    "\n",
    "#Accuracy\n",
    "from sklearn import metrics\n",
    "\n",
    "print('Accuracy Score:', metrics.accuracy_score(y_Dtest, y_DPred))\n",
    "print('Mean absolute error: ', metrics.mean_absolute_error(y_Dtest, y_DPred))"
   ],
   "outputs": [
    {
     "output_type": "stream",
     "name": "stdout",
     "text": [
      "Accuracy Score: 0.0011173184357541898\n",
      "Mean absolute error:  61.312849162011176\n"
     ]
    }
   ],
   "metadata": {}
  },
  {
   "cell_type": "code",
   "execution_count": 31,
   "source": [
    "#rmse\n",
    "import math\n",
    "mse =np.square(np.subtract(y_Dtest, y_DPred)).mean()\n",
    "rmse = math.sqrt(mse)\n",
    "print('rmse: ', rmse)"
   ],
   "outputs": [
    {
     "output_type": "stream",
     "name": "stdout",
     "text": [
      "rmse:  95.58109838621381\n"
     ]
    }
   ],
   "metadata": {}
  },
  {
   "cell_type": "markdown",
   "source": [
    "<h5>INFERENCE</h5>\n",
    "<p> the Decision tree classifier is extremely poor. This is because decision tree works best for predicting a response variable that is categorical. While we tried to convert the float type to int and also label encode it, the performance is very poor.</p>"
   ],
   "metadata": {}
  },
  {
   "cell_type": "code",
   "execution_count": 86,
   "source": [
    "# import numpy as np\n",
    "# from sklearn import linear_model\n",
    "# from sklearn import svm\n",
    "\n",
    "# classifiers = [\n",
    "#     svm.SVR(),\n",
    "#     linear_model.SGDRegressor(),\n",
    "#     linear_model.BayesianRidge(),\n",
    "#     linear_model.LassoLars(),\n",
    "#     linear_model.ARDRegression(),\n",
    "#     linear_model.PassiveAggressiveRegressor(),\n",
    "#     linear_model.TheilSenRegressor(),\n",
    "#     linear_model.LinearRegression()]\n",
    "\n",
    "# trainingData    = np.array([ [2.3, 4.3, 2.5],  [1.3, 5.2, 5.2],  [3.3, 2.9, 0.8],  [3.1, 4.3, 4.0]  ])\n",
    "# trainingScores  = np.array( [3.4, 7.5, 4.5, 1.6] )\n",
    "# predictionData  = np.array([ [2.5, 2.4, 2.7],  [2.7, 3.2, 1.2] ])\n",
    "\n",
    "# for item in classifiers:\n",
    "#     print(item)\n",
    "#     clf = item\n",
    "#     clf.fit(trainingData, trainingScores)\n",
    "#     print(clf.predict(predictionData),'\\n')"
   ],
   "outputs": [],
   "metadata": {}
  },
  {
   "cell_type": "markdown",
   "source": [
    "<h4> RANDOM FOREST </h4>"
   ],
   "metadata": {}
  },
  {
   "cell_type": "code",
   "execution_count": 32,
   "source": [
    "from sklearn.ensemble import RandomForestClassifier\n",
    "\n",
    "#Create a Gaussian Classifier\n",
    "clf=RandomForestClassifier(n_estimators=100)\n",
    "\n",
    "#Train the model using the training sets y_pred=clf.predict(X_test)\n",
    "clf.fit(X_Dtrain,y_Dtrain)\n",
    "\n",
    "y_pred=clf.predict(X_Dtest)"
   ],
   "outputs": [],
   "metadata": {}
  },
  {
   "cell_type": "code",
   "execution_count": 33,
   "source": [
    "from sklearn import metrics\n",
    "\n",
    "print('Accuracy Score:', metrics.accuracy_score(y_Dtest, y_pred))\n",
    "print('Mean absolute error: ', metrics.mean_absolute_error(y_Dtest, y_pred))"
   ],
   "outputs": [
    {
     "output_type": "stream",
     "name": "stdout",
     "text": [
      "Accuracy Score: 0.0011173184357541898\n",
      "Mean absolute error:  70.87486033519554\n"
     ]
    }
   ],
   "metadata": {
    "scrolled": true
   }
  },
  {
   "cell_type": "code",
   "execution_count": 34,
   "source": [
    "import math\n",
    "\n",
    "mse =np.square(np.subtract(y_Dtest, y_pred)).mean()\n",
    "rmse = math.sqrt(mse)\n",
    "print('rmse: ', rmse)"
   ],
   "outputs": [
    {
     "output_type": "stream",
     "name": "stdout",
     "text": [
      "rmse:  174.42911511877057\n"
     ]
    }
   ],
   "metadata": {}
  },
  {
   "cell_type": "markdown",
   "source": [
    "<h5>INFERENCE</h5>\n",
    "<p> the Random forest classifier is extremely poor. We may conclude that ensemble models are not favourable for this problem.</p>\n",
    "<p> But first, let us try and standardize the values if there will be any difference</p>"
   ],
   "metadata": {}
  },
  {
   "cell_type": "code",
   "execution_count": 35,
   "source": [
    "# create another copy of the data\n",
    "\n",
    "y_scale = y_DEncoded\n",
    "X_scale = X_D\n",
    "\n",
    "from sklearn.preprocessing import StandardScaler\n",
    "scaler = StandardScaler() \n",
    "data_scaled = scaler.fit_transform(X_scale)\n",
    "data_scaled = scaler.fit_transform(y_scale.reshape(-1,1))"
   ],
   "outputs": [],
   "metadata": {}
  },
  {
   "cell_type": "code",
   "execution_count": 36,
   "source": [
    "y_scale"
   ],
   "outputs": [
    {
     "output_type": "execute_result",
     "data": {
      "text/plain": [
       "array([ 198, 1359,  304, ..., 2316, 1865, 2313])"
      ]
     },
     "metadata": {},
     "execution_count": 36
    }
   ],
   "metadata": {}
  },
  {
   "cell_type": "code",
   "execution_count": 37,
   "source": [
    "# split the data\n",
    "\n",
    "X_Strain, X_Stest, y_Strain, y_Stest =  train_test_split(X_scale,y_scale, test_size = 0.3, random_state= 0)"
   ],
   "outputs": [],
   "metadata": {}
  },
  {
   "cell_type": "code",
   "execution_count": 38,
   "source": [
    "# Decision tree classifier\n",
    "\n",
    "#train\n",
    "classifier = classifier.fit(X_Strain,y_Strain) \n",
    "\n",
    "#prediction\n",
    "y_SPred = classifier.predict(X_Stest)\n",
    "\n",
    "#Accuracy\n",
    "print('Accuracy Score:', metrics.accuracy_score(y_Stest, y_SPred))\n",
    "\n",
    "#rmse\n",
    "mse =np.square(np.subtract(y_Stest, y_SPred)).mean()\n",
    "rmse = math.sqrt(mse)\n",
    "print('rmse: ', rmse)"
   ],
   "outputs": [
    {
     "output_type": "stream",
     "name": "stdout",
     "text": [
      "Accuracy Score: 0.0011173184357541898\n",
      "rmse:  120.06038517923169\n"
     ]
    }
   ],
   "metadata": {}
  },
  {
   "cell_type": "code",
   "execution_count": 39,
   "source": [
    "# Random forest classifier\n",
    "\n",
    "#train\n",
    "clf = clf.fit(X_Strain,y_Strain) \n",
    "\n",
    "#prediction\n",
    "y_SPred = clf.predict(X_Stest)\n",
    "\n",
    "#Accuracy\n",
    "print('Accuracy Score:', metrics.accuracy_score(y_Stest, y_SPred))\n",
    "print('Mean absolute error: ', metrics.mean_absolute_error(y_Stest, y_SPred))\n",
    "\n",
    "#rmse\n",
    "mse =np.square(np.subtract(y_Stest, y_SPred)).mean()\n",
    "rmse = math.sqrt(mse)\n",
    "print('rmse: ', rmse)"
   ],
   "outputs": [
    {
     "output_type": "stream",
     "name": "stdout",
     "text": [
      "Accuracy Score: 0.0011173184357541898\n",
      "Mean absolute error:  74.57430167597765\n",
      "rmse:  179.4955936964041\n"
     ]
    }
   ],
   "metadata": {}
  },
  {
   "cell_type": "markdown",
   "source": [
    "Our assumption was confirmed, we therefore can conclude that ensemble models cannot be used for our stock prediction uaing macroheadlines problem"
   ],
   "metadata": {}
  },
  {
   "cell_type": "markdown",
   "source": [
    "### LINEAR MODELS\n",
    "\n",
    "<h4>LINEAR REGRESSION</h4>"
   ],
   "metadata": {}
  },
  {
   "cell_type": "code",
   "execution_count": 40,
   "source": [
    "\n",
    "from sklearn.linear_model import LinearRegression\n",
    "\n",
    "# X_lin = X\n",
    "# y_lin = y\n",
    "X_reg = df.drop('Close', axis = 1).values\n",
    "y_reg = df.Close.values\n",
    "\n",
    "regEnc = LabelEncoder()\n",
    "X_reg[:, -1] = regEnc.fit_transform(X_reg[:, -1]) #Day_of_week\n",
    "\n",
    "X_reg[:, 3] = regEnc.fit_transform(X_reg[:, 3]) #stockName\n",
    "\n",
    "X_reg = X.astype('float')\n",
    "X_reg\n",
    "# le = preprocessing.LabelEncoder()\n",
    "# for i in range(*NUMBER OF FEATURES*):\n",
    "#     myData[:,i] = le.fit_transform(myData[:,i])"
   ],
   "outputs": [
    {
     "output_type": "execute_result",
     "data": {
      "text/plain": [
       "array([[2.020000e+03, 1.000000e+00, 1.000000e+00, ..., 7.515000e+01,\n",
       "        7.379750e+01, 6.000000e+00],\n",
       "       [2.020000e+03, 1.000000e+00, 1.000000e+00, ..., 1.607300e+02,\n",
       "        1.583300e+02, 6.000000e+00],\n",
       "       [2.020000e+03, 1.000000e+00, 1.000000e+00, ..., 8.613910e+01,\n",
       "        8.434200e+01, 6.000000e+00],\n",
       "       ...,\n",
       "       [2.021000e+03, 9.000000e+00, 2.000000e+01, ..., 2.730000e+02,\n",
       "        2.656800e+02, 1.000000e+00],\n",
       "       [2.021000e+03, 9.000000e+00, 2.100000e+01, ..., 2.142500e+02,\n",
       "        2.095000e+02, 5.000000e+00],\n",
       "       [2.021000e+03, 9.000000e+00, 2.100000e+01, ..., 2.722986e+02,\n",
       "        2.678000e+02, 5.000000e+00]])"
      ]
     },
     "metadata": {},
     "execution_count": 40
    }
   ],
   "metadata": {}
  },
  {
   "cell_type": "code",
   "execution_count": 41,
   "source": [
    "# split the data\n",
    "X_Ltrain, X_Ltest, y_Ltrain, y_Ltest =  train_test_split(X_reg,y_reg, test_size = 0.3, random_state= 0)"
   ],
   "outputs": [],
   "metadata": {}
  },
  {
   "cell_type": "code",
   "execution_count": 42,
   "source": [
    "reg = LinearRegression()\n",
    "#Train the model using the training sets y_pred=reg.predict(X_test)\n",
    "reg = reg.fit(X_Ltrain,y_Ltrain)\n",
    "\n"
   ],
   "outputs": [],
   "metadata": {}
  },
  {
   "cell_type": "code",
   "execution_count": 43,
   "source": [
    "y_Lpred=reg.predict(X_Ltest)"
   ],
   "outputs": [],
   "metadata": {}
  },
  {
   "cell_type": "code",
   "execution_count": 44,
   "source": [
    "#rmse\n",
    "mse =np.square(np.subtract(y_Ltest, y_Lpred)).mean()\n",
    "rmse = math.sqrt(mse)\n",
    "print('rmse: ', rmse)"
   ],
   "outputs": [
    {
     "output_type": "stream",
     "name": "stdout",
     "text": [
      "rmse:  4.091236928796569\n"
     ]
    }
   ],
   "metadata": {}
  },
  {
   "cell_type": "code",
   "execution_count": 45,
   "source": [
    "#Accuracy\n",
    "print('Mean absolute error: ', metrics.mean_absolute_error(y_Ltest, y_Lpred))\n"
   ],
   "outputs": [
    {
     "output_type": "stream",
     "name": "stdout",
     "text": [
      "Mean absolute error:  2.1170349459889044\n"
     ]
    }
   ],
   "metadata": {}
  },
  {
   "cell_type": "markdown",
   "source": [
    "<p> the rmse and mean absolute error for linear regression is favourable"
   ],
   "metadata": {}
  },
  {
   "cell_type": "code",
   "execution_count": 46,
   "source": [
    "from sklearn.linear_model import LogisticRegression\n",
    "\n",
    "y_Ltrain = y_Ltrain.astype('int')\n",
    "\n",
    "log = LogisticRegression().fit(X_Ltrain,y_Ltrain)\n"
   ],
   "outputs": [
    {
     "output_type": "stream",
     "name": "stderr",
     "text": [
      "/Users/dahmani/opt/anaconda3/lib/python3.8/site-packages/sklearn/linear_model/_logistic.py:763: ConvergenceWarning: lbfgs failed to converge (status=1):\n",
      "STOP: TOTAL NO. of ITERATIONS REACHED LIMIT.\n",
      "\n",
      "Increase the number of iterations (max_iter) or scale the data as shown in:\n",
      "    https://scikit-learn.org/stable/modules/preprocessing.html\n",
      "Please also refer to the documentation for alternative solver options:\n",
      "    https://scikit-learn.org/stable/modules/linear_model.html#logistic-regression\n",
      "  n_iter_i = _check_optimize_result(\n"
     ]
    }
   ],
   "metadata": {}
  },
  {
   "cell_type": "code",
   "execution_count": 47,
   "source": [
    "y_Lpred=reg.predict(X_Ltest)"
   ],
   "outputs": [],
   "metadata": {}
  },
  {
   "cell_type": "code",
   "execution_count": 48,
   "source": [
    "#rmse\n",
    "mse =np.square(np.subtract(y_Ltest, y_Lpred)).mean()\n",
    "rmse = math.sqrt(mse)\n",
    "print('rmse: ', rmse)"
   ],
   "outputs": [
    {
     "output_type": "stream",
     "name": "stdout",
     "text": [
      "rmse:  4.091236928796569\n"
     ]
    }
   ],
   "metadata": {}
  },
  {
   "cell_type": "code",
   "execution_count": 49,
   "source": [
    "#Accuracy\n",
    "print('Mean absolute error: ', metrics.mean_absolute_error(y_Ltest, y_Lpred))"
   ],
   "outputs": [
    {
     "output_type": "stream",
     "name": "stdout",
     "text": [
      "Mean absolute error:  2.1170349459889044\n"
     ]
    }
   ],
   "metadata": {}
  },
  {
   "cell_type": "markdown",
   "source": [
    "<h4>BASELINE MODEL</h4>\n",
    "\n",
    "<p> The baseline for this problem is the mean of the Close price because this is a regression problem"
   ],
   "metadata": {}
  },
  {
   "cell_type": "code",
   "execution_count": 50,
   "source": [
    "print('The mean of the total Close price: ', y_reg.mean())\n",
    "print('The mean of the training data: ', y_Ltrain.mean())\n",
    "print('The mean of the testing data: ', y_Ltest.mean())"
   ],
   "outputs": [
    {
     "output_type": "stream",
     "name": "stdout",
     "text": [
      "The mean of the total Close price:  225.88485355347973\n",
      "The mean of the training data:  228.4243295019157\n",
      "The mean of the testing data:  218.79507570783238\n"
     ]
    }
   ],
   "metadata": {}
  },
  {
   "cell_type": "code",
   "execution_count": 51,
   "source": [
    "import numpy as np\n",
    "\n",
    "pred = [y_Ltest.mean()] * len(y_Ltest)\n",
    "pred = np.array(pred, dtype=np.float32)\n",
    "# pred"
   ],
   "outputs": [],
   "metadata": {}
  },
  {
   "cell_type": "code",
   "execution_count": 52,
   "source": [
    "#rmse\n",
    "mse =np.square(np.subtract(y_Ltest, pred)).mean()\n",
    "rmse = math.sqrt(mse)\n",
    "print('rmse: ', rmse)\n"
   ],
   "outputs": [
    {
     "output_type": "stream",
     "name": "stdout",
     "text": [
      "rmse:  164.50794765428228\n"
     ]
    }
   ],
   "metadata": {}
  },
  {
   "cell_type": "code",
   "execution_count": 53,
   "source": [
    "\n",
    "#Accuracy\n",
    "print('Mean absolute error: ', metrics.mean_absolute_error(y_Ltest, pred))"
   ],
   "outputs": [
    {
     "output_type": "stream",
     "name": "stdout",
     "text": [
      "Mean absolute error:  108.91560112694545\n"
     ]
    }
   ],
   "metadata": {}
  },
  {
   "cell_type": "markdown",
   "source": [
    "<h5>INFERENCE</h5>\n",
    "\n",
    "The RMSE and accuracy scores of Linear and Logistic regression are the same. We can safely say the Linear Regression is the safest model as this is a regression problem with continuous value for our response variable, Close. Baseline algorithms have not performed well on this dataset."
   ],
   "metadata": {}
  },
  {
   "cell_type": "markdown",
   "source": [
    "### MODELS FOR CLASSIFICATION AND REGRESSION PROBLEMS\n",
    "<h4>KNN<h4/>"
   ],
   "metadata": {}
  },
  {
   "cell_type": "code",
   "execution_count": 54,
   "source": [
    "#importing libraries\n",
    "from sklearn import neighbors\n",
    "from sklearn.model_selection import GridSearchCV"
   ],
   "outputs": [],
   "metadata": {}
  },
  {
   "cell_type": "code",
   "execution_count": 55,
   "source": [
    "#using gridsearch to find the best parameter\n",
    "params = {'n_neighbors':[2,3,4,5,6,7,8,9]}\n",
    "knn = neighbors.KNeighborsRegressor()\n",
    "model = GridSearchCV(knn, params, cv=5)\n",
    "\n",
    "#fit the model and make predictions\n",
    "model.fit(X_Ltrain,y_Ltrain)\n",
    "preds = model.predict(X_Ltest)"
   ],
   "outputs": [],
   "metadata": {}
  },
  {
   "cell_type": "code",
   "execution_count": 56,
   "source": [
    "#rmse\n",
    "mse =np.square(np.subtract(y_Ltest, preds)).mean()\n",
    "rmse = math.sqrt(mse)\n",
    "print('rmse: ', rmse)\n"
   ],
   "outputs": [
    {
     "output_type": "stream",
     "name": "stdout",
     "text": [
      "rmse:  158.73371395152603\n"
     ]
    }
   ],
   "metadata": {}
  },
  {
   "cell_type": "code",
   "execution_count": 57,
   "source": [
    "\n",
    "#Accuracy\n",
    "print('Mean absolute error: ', metrics.mean_absolute_error(y_Ltest, preds))"
   ],
   "outputs": [
    {
     "output_type": "stream",
     "name": "stdout",
     "text": [
      "Mean absolute error:  107.0468028768231\n"
     ]
    }
   ],
   "metadata": {}
  },
  {
   "cell_type": "markdown",
   "source": [
    "<h5>INFERENCE</h5>\n",
    "\n",
    "The RMSE values of KNN and Baseline are similar. We can safely say that KNN and Baseline algorithms have not performed well on this dataset."
   ],
   "metadata": {}
  },
  {
   "cell_type": "markdown",
   "source": [
    "<h4>LONG SHORT TERM MEMORY<h4/>"
   ],
   "metadata": {}
  },
  {
   "cell_type": "code",
   "execution_count": 59,
   "source": [
    "# Importing the libraries\n",
    "import numpy as np\n",
    "import matplotlib.pyplot as plt\n",
    "import pandas as pd\n",
    "import warnings\n",
    "warnings.filterwarnings('ignore')"
   ],
   "outputs": [],
   "metadata": {}
  },
  {
   "cell_type": "code",
   "execution_count": 60,
   "source": [
    "#Loading and Preprocessing Data\n",
    "\n",
    "# Importing the training set\n",
    "dataset_train = df\n",
    "dataset_train.head()"
   ],
   "outputs": [
    {
     "output_type": "execute_result",
     "data": {
      "text/html": [
       "<div>\n",
       "<style scoped>\n",
       "    .dataframe tbody tr th:only-of-type {\n",
       "        vertical-align: middle;\n",
       "    }\n",
       "\n",
       "    .dataframe tbody tr th {\n",
       "        vertical-align: top;\n",
       "    }\n",
       "\n",
       "    .dataframe thead th {\n",
       "        text-align: right;\n",
       "    }\n",
       "</style>\n",
       "<table border=\"1\" class=\"dataframe\">\n",
       "  <thead>\n",
       "    <tr style=\"text-align: right;\">\n",
       "      <th></th>\n",
       "      <th>Year</th>\n",
       "      <th>Month</th>\n",
       "      <th>Day</th>\n",
       "      <th>StockName</th>\n",
       "      <th>Positive</th>\n",
       "      <th>Negative</th>\n",
       "      <th>Neutral</th>\n",
       "      <th>Total Tweets</th>\n",
       "      <th>Close</th>\n",
       "      <th>Volume</th>\n",
       "      <th>Open</th>\n",
       "      <th>High</th>\n",
       "      <th>Low</th>\n",
       "      <th>Day_of_week</th>\n",
       "    </tr>\n",
       "  </thead>\n",
       "  <tbody>\n",
       "    <tr>\n",
       "      <th>0</th>\n",
       "      <td>2020</td>\n",
       "      <td>1</td>\n",
       "      <td>1</td>\n",
       "      <td>apple</td>\n",
       "      <td>10</td>\n",
       "      <td>2</td>\n",
       "      <td>8</td>\n",
       "      <td>20</td>\n",
       "      <td>75.0875</td>\n",
       "      <td>135647440.0</td>\n",
       "      <td>74.0600</td>\n",
       "      <td>75.1500</td>\n",
       "      <td>73.7975</td>\n",
       "      <td>Wednesday</td>\n",
       "    </tr>\n",
       "    <tr>\n",
       "      <th>1</th>\n",
       "      <td>2020</td>\n",
       "      <td>1</td>\n",
       "      <td>1</td>\n",
       "      <td>microsoft</td>\n",
       "      <td>9</td>\n",
       "      <td>0</td>\n",
       "      <td>11</td>\n",
       "      <td>20</td>\n",
       "      <td>160.6200</td>\n",
       "      <td>22634550.0</td>\n",
       "      <td>158.7800</td>\n",
       "      <td>160.7300</td>\n",
       "      <td>158.3300</td>\n",
       "      <td>Wednesday</td>\n",
       "    </tr>\n",
       "    <tr>\n",
       "      <th>2</th>\n",
       "      <td>2020</td>\n",
       "      <td>1</td>\n",
       "      <td>1</td>\n",
       "      <td>tesla</td>\n",
       "      <td>17</td>\n",
       "      <td>3</td>\n",
       "      <td>3</td>\n",
       "      <td>23</td>\n",
       "      <td>86.0520</td>\n",
       "      <td>47791930.0</td>\n",
       "      <td>84.9000</td>\n",
       "      <td>86.1391</td>\n",
       "      <td>84.3420</td>\n",
       "      <td>Wednesday</td>\n",
       "    </tr>\n",
       "    <tr>\n",
       "      <th>3</th>\n",
       "      <td>2020</td>\n",
       "      <td>1</td>\n",
       "      <td>1</td>\n",
       "      <td>nvidia</td>\n",
       "      <td>1</td>\n",
       "      <td>0</td>\n",
       "      <td>0</td>\n",
       "      <td>1</td>\n",
       "      <td>59.9775</td>\n",
       "      <td>23767876.0</td>\n",
       "      <td>59.6875</td>\n",
       "      <td>59.9775</td>\n",
       "      <td>59.1800</td>\n",
       "      <td>Wednesday</td>\n",
       "    </tr>\n",
       "    <tr>\n",
       "      <th>4</th>\n",
       "      <td>2020</td>\n",
       "      <td>1</td>\n",
       "      <td>1</td>\n",
       "      <td>paypal</td>\n",
       "      <td>1</td>\n",
       "      <td>0</td>\n",
       "      <td>1</td>\n",
       "      <td>2</td>\n",
       "      <td>110.7500</td>\n",
       "      <td>7419283.0</td>\n",
       "      <td>109.4700</td>\n",
       "      <td>111.2100</td>\n",
       "      <td>109.2750</td>\n",
       "      <td>Wednesday</td>\n",
       "    </tr>\n",
       "  </tbody>\n",
       "</table>\n",
       "</div>"
      ],
      "text/plain": [
       "   Year  Month  Day  StockName  Positive  Negative  Neutral  Total Tweets  \\\n",
       "0  2020      1    1      apple        10         2        8            20   \n",
       "1  2020      1    1  microsoft         9         0       11            20   \n",
       "2  2020      1    1      tesla        17         3        3            23   \n",
       "3  2020      1    1     nvidia         1         0        0             1   \n",
       "4  2020      1    1     paypal         1         0        1             2   \n",
       "\n",
       "      Close       Volume      Open      High       Low Day_of_week  \n",
       "0   75.0875  135647440.0   74.0600   75.1500   73.7975   Wednesday  \n",
       "1  160.6200   22634550.0  158.7800  160.7300  158.3300   Wednesday  \n",
       "2   86.0520   47791930.0   84.9000   86.1391   84.3420   Wednesday  \n",
       "3   59.9775   23767876.0   59.6875   59.9775   59.1800   Wednesday  \n",
       "4  110.7500    7419283.0  109.4700  111.2100  109.2750   Wednesday  "
      ]
     },
     "metadata": {},
     "execution_count": 60
    }
   ],
   "metadata": {}
  },
  {
   "cell_type": "code",
   "execution_count": 61,
   "source": [
    "train = dataset_train.loc[:, [\"Open\"]].values\n",
    "train"
   ],
   "outputs": [
    {
     "output_type": "execute_result",
     "data": {
      "text/plain": [
       "array([[ 74.06 ],\n",
       "       [158.78 ],\n",
       "       [ 84.9  ],\n",
       "       ...,\n",
       "       [271.55 ],\n",
       "       [214.165],\n",
       "       [271.75 ]])"
      ]
     },
     "metadata": {},
     "execution_count": 61
    }
   ],
   "metadata": {}
  },
  {
   "cell_type": "code",
   "execution_count": 62,
   "source": [
    "# Feature Scaling\n",
    "from sklearn.preprocessing import MinMaxScaler\n",
    "scaler = MinMaxScaler(feature_range = (0, 1))\n",
    "train_scaled = scaler.fit_transform(train)\n",
    "train_scaled"
   ],
   "outputs": [
    {
     "output_type": "execute_result",
     "data": {
      "text/plain": [
       "array([[0.0285684 ],\n",
       "       [0.12926297],\n",
       "       [0.04145236],\n",
       "       ...,\n",
       "       [0.26329657],\n",
       "       [0.19509121],\n",
       "       [0.26353428]])"
      ]
     },
     "metadata": {},
     "execution_count": 62
    }
   ],
   "metadata": {}
  },
  {
   "cell_type": "code",
   "execution_count": 64,
   "source": [
    "plt.plot(train_scaled)\n",
    "plt.show()"
   ],
   "outputs": [
    {
     "output_type": "display_data",
     "data": {
      "image/png": "[encoded data removed]",
      "text/plain": [
       "<Figure size 432x288 with 1 Axes>"
      ]
     },
     "metadata": {
      "needs_background": "light"
     }
    }
   ],
   "metadata": {}
  },
  {
   "cell_type": "code",
   "execution_count": 65,
   "source": [
    "# Creating a data structure with 50 timesteps and 1 output\n",
    "X_train = []\n",
    "y_train = []\n",
    "timesteps = 50\n",
    "for i in range(timesteps, 1258):\n",
    "    X_train.append(train_scaled[i-timesteps:i, 0])\n",
    "    y_train.append(train_scaled[i, 0])\n",
    "X_train, y_train = np.array(X_train), np.array(y_train)"
   ],
   "outputs": [],
   "metadata": {}
  },
  {
   "cell_type": "code",
   "execution_count": 66,
   "source": [
    "X_train = np.reshape(X_train, (X_train.shape[0], X_train.shape[1], 1))\n",
    "X_train[0:1]"
   ],
   "outputs": [
    {
     "output_type": "execute_result",
     "data": {
      "text/plain": [
       "array([[[0.0285684 ],\n",
       "        [0.12926297],\n",
       "        [0.04145236],\n",
       "        [0.01148586],\n",
       "        [0.07065521],\n",
       "        [0.0285684 ],\n",
       "        [0.12926297],\n",
       "        [0.04145236],\n",
       "        [0.01148586],\n",
       "        [0.07065521],\n",
       "        [0.0288388 ],\n",
       "        [0.12871623],\n",
       "        [0.04525574],\n",
       "        [0.0104013 ],\n",
       "        [0.07067898],\n",
       "        [0.028506  ],\n",
       "        [0.12822496],\n",
       "        [0.04525337],\n",
       "        [0.01012595],\n",
       "        [0.06953797],\n",
       "        [0.0281732 ],\n",
       "        [0.12773369],\n",
       "        [0.04525099],\n",
       "        [0.0098506 ],\n",
       "        [0.02784041],\n",
       "        [0.12724242],\n",
       "        [0.04524861],\n",
       "        [0.00957525],\n",
       "        [0.06839695],\n",
       "        [0.0296381 ],\n",
       "        [0.12990479],\n",
       "        [0.05022391],\n",
       "        [0.01132243],\n",
       "        [0.07306798],\n",
       "        [0.02884177],\n",
       "        [0.12944125],\n",
       "        [0.05314776],\n",
       "        [0.01178597],\n",
       "        [0.07176057],\n",
       "        [0.03183551],\n",
       "        [0.13289401],\n",
       "        [0.05871021],\n",
       "        [0.01300127],\n",
       "        [0.07483893],\n",
       "        [0.03283532],\n",
       "        [0.13406949],\n",
       "        [0.05507085],\n",
       "        [0.01403532],\n",
       "        [0.03293833],\n",
       "        [0.13364795]]])"
      ]
     },
     "metadata": {},
     "execution_count": 66
    }
   ],
   "metadata": {}
  },
  {
   "cell_type": "code",
   "execution_count": 67,
   "source": [
    "y_train[0:1]\n"
   ],
   "outputs": [
    {
     "output_type": "execute_result",
     "data": {
      "text/plain": [
       "array([0.05599872])"
      ]
     },
     "metadata": {},
     "execution_count": 67
    }
   ],
   "metadata": {}
  },
  {
   "cell_type": "code",
   "execution_count": 68,
   "source": [
    "# Importing the Keras libraries and packages\n",
    "from keras.models import Sequential\n",
    "from keras.layers import Dense\n",
    "from keras.layers import SimpleRNN\n",
    "from keras.layers import Dropout\n",
    "\n",
    "# Initialising the RNN\n",
    "regressor = Sequential()\n",
    "\n",
    "# Adding the first RNN layer and some Dropout regularisation\n",
    "regressor.add(SimpleRNN(units = 50,activation='tanh', return_sequences = True, input_shape = (X_train.shape[1], 1)))\n",
    "regressor.add(Dropout(0.2))\n",
    "\n",
    "# Adding a second RNN layer and some Dropout regularisation\n",
    "regressor.add(SimpleRNN(units = 50,activation='tanh', return_sequences = True))\n",
    "regressor.add(Dropout(0.2))\n",
    "\n",
    "# Adding a third RNN layer and some Dropout regularisation\n",
    "regressor.add(SimpleRNN(units = 50,activation='tanh', return_sequences = True))\n",
    "regressor.add(Dropout(0.2))\n",
    "\n",
    "# Adding a fourth RNN layer and some Dropout regularisation\n",
    "regressor.add(SimpleRNN(units = 50))\n",
    "regressor.add(Dropout(0.2))\n",
    "\n",
    "# Adding the output layer\n",
    "regressor.add(Dense(units = 1))\n",
    "\n",
    "# Compiling the RNN\n",
    "regressor.compile(optimizer = 'adam', loss = 'mean_squared_error',metrics=['accuracy'])\n",
    "\n",
    "# Fitting the RNN to the Training set\n",
    "regressor.fit(X_train, y_train, epochs = 10, batch_size = 32)"
   ],
   "outputs": [
    {
     "output_type": "stream",
     "name": "stdout",
     "text": [
      "Epoch 1/10\n",
      "38/38 [==============================] - 3s 26ms/step - loss: 0.3321 - accuracy: 8.2781e-04\n",
      "Epoch 2/10\n",
      "38/38 [==============================] - 1s 26ms/step - loss: 0.1969 - accuracy: 8.2781e-04\n",
      "Epoch 3/10\n",
      "38/38 [==============================] - 1s 26ms/step - loss: 0.1360 - accuracy: 8.2781e-04\n",
      "Epoch 4/10\n",
      "38/38 [==============================] - 1s 26ms/step - loss: 0.0923 - accuracy: 0.0000e+00\n",
      "Epoch 5/10\n",
      "38/38 [==============================] - 1s 26ms/step - loss: 0.0704 - accuracy: 8.2781e-04\n",
      "Epoch 6/10\n",
      "38/38 [==============================] - 1s 26ms/step - loss: 0.0530 - accuracy: 8.2781e-04\n",
      "Epoch 7/10\n",
      "38/38 [==============================] - 1s 26ms/step - loss: 0.0439 - accuracy: 8.2781e-04\n",
      "Epoch 8/10\n",
      "38/38 [==============================] - 1s 26ms/step - loss: 0.0344 - accuracy: 8.2781e-04\n",
      "Epoch 9/10\n",
      "38/38 [==============================] - 1s 26ms/step - loss: 0.0292 - accuracy: 8.2781e-04\n",
      "Epoch 10/10\n",
      "38/38 [==============================] - 1s 26ms/step - loss: 0.0239 - accuracy: 8.2781e-04\n"
     ]
    },
    {
     "output_type": "execute_result",
     "data": {
      "text/plain": [
       "<keras.callbacks.History at 0x7fcddc2f2a30>"
      ]
     },
     "metadata": {},
     "execution_count": 68
    }
   ],
   "metadata": {}
  },
  {
   "cell_type": "code",
   "execution_count": 69,
   "source": [
    "# Getting the real stock price of 2021\n",
    "dataset_test = df\n",
    "dataset_test.head()"
   ],
   "outputs": [
    {
     "output_type": "execute_result",
     "data": {
      "text/html": [
       "<div>\n",
       "<style scoped>\n",
       "    .dataframe tbody tr th:only-of-type {\n",
       "        vertical-align: middle;\n",
       "    }\n",
       "\n",
       "    .dataframe tbody tr th {\n",
       "        vertical-align: top;\n",
       "    }\n",
       "\n",
       "    .dataframe thead th {\n",
       "        text-align: right;\n",
       "    }\n",
       "</style>\n",
       "<table border=\"1\" class=\"dataframe\">\n",
       "  <thead>\n",
       "    <tr style=\"text-align: right;\">\n",
       "      <th></th>\n",
       "      <th>Year</th>\n",
       "      <th>Month</th>\n",
       "      <th>Day</th>\n",
       "      <th>StockName</th>\n",
       "      <th>Positive</th>\n",
       "      <th>Negative</th>\n",
       "      <th>Neutral</th>\n",
       "      <th>Total Tweets</th>\n",
       "      <th>Close</th>\n",
       "      <th>Volume</th>\n",
       "      <th>Open</th>\n",
       "      <th>High</th>\n",
       "      <th>Low</th>\n",
       "      <th>Day_of_week</th>\n",
       "    </tr>\n",
       "  </thead>\n",
       "  <tbody>\n",
       "    <tr>\n",
       "      <th>0</th>\n",
       "      <td>2020</td>\n",
       "      <td>1</td>\n",
       "      <td>1</td>\n",
       "      <td>apple</td>\n",
       "      <td>10</td>\n",
       "      <td>2</td>\n",
       "      <td>8</td>\n",
       "      <td>20</td>\n",
       "      <td>75.0875</td>\n",
       "      <td>135647440.0</td>\n",
       "      <td>74.0600</td>\n",
       "      <td>75.1500</td>\n",
       "      <td>73.7975</td>\n",
       "      <td>Wednesday</td>\n",
       "    </tr>\n",
       "    <tr>\n",
       "      <th>1</th>\n",
       "      <td>2020</td>\n",
       "      <td>1</td>\n",
       "      <td>1</td>\n",
       "      <td>microsoft</td>\n",
       "      <td>9</td>\n",
       "      <td>0</td>\n",
       "      <td>11</td>\n",
       "      <td>20</td>\n",
       "      <td>160.6200</td>\n",
       "      <td>22634550.0</td>\n",
       "      <td>158.7800</td>\n",
       "      <td>160.7300</td>\n",
       "      <td>158.3300</td>\n",
       "      <td>Wednesday</td>\n",
       "    </tr>\n",
       "    <tr>\n",
       "      <th>2</th>\n",
       "      <td>2020</td>\n",
       "      <td>1</td>\n",
       "      <td>1</td>\n",
       "      <td>tesla</td>\n",
       "      <td>17</td>\n",
       "      <td>3</td>\n",
       "      <td>3</td>\n",
       "      <td>23</td>\n",
       "      <td>86.0520</td>\n",
       "      <td>47791930.0</td>\n",
       "      <td>84.9000</td>\n",
       "      <td>86.1391</td>\n",
       "      <td>84.3420</td>\n",
       "      <td>Wednesday</td>\n",
       "    </tr>\n",
       "    <tr>\n",
       "      <th>3</th>\n",
       "      <td>2020</td>\n",
       "      <td>1</td>\n",
       "      <td>1</td>\n",
       "      <td>nvidia</td>\n",
       "      <td>1</td>\n",
       "      <td>0</td>\n",
       "      <td>0</td>\n",
       "      <td>1</td>\n",
       "      <td>59.9775</td>\n",
       "      <td>23767876.0</td>\n",
       "      <td>59.6875</td>\n",
       "      <td>59.9775</td>\n",
       "      <td>59.1800</td>\n",
       "      <td>Wednesday</td>\n",
       "    </tr>\n",
       "    <tr>\n",
       "      <th>4</th>\n",
       "      <td>2020</td>\n",
       "      <td>1</td>\n",
       "      <td>1</td>\n",
       "      <td>paypal</td>\n",
       "      <td>1</td>\n",
       "      <td>0</td>\n",
       "      <td>1</td>\n",
       "      <td>2</td>\n",
       "      <td>110.7500</td>\n",
       "      <td>7419283.0</td>\n",
       "      <td>109.4700</td>\n",
       "      <td>111.2100</td>\n",
       "      <td>109.2750</td>\n",
       "      <td>Wednesday</td>\n",
       "    </tr>\n",
       "  </tbody>\n",
       "</table>\n",
       "</div>"
      ],
      "text/plain": [
       "   Year  Month  Day  StockName  Positive  Negative  Neutral  Total Tweets  \\\n",
       "0  2020      1    1      apple        10         2        8            20   \n",
       "1  2020      1    1  microsoft         9         0       11            20   \n",
       "2  2020      1    1      tesla        17         3        3            23   \n",
       "3  2020      1    1     nvidia         1         0        0             1   \n",
       "4  2020      1    1     paypal         1         0        1             2   \n",
       "\n",
       "      Close       Volume      Open      High       Low Day_of_week  \n",
       "0   75.0875  135647440.0   74.0600   75.1500   73.7975   Wednesday  \n",
       "1  160.6200   22634550.0  158.7800  160.7300  158.3300   Wednesday  \n",
       "2   86.0520   47791930.0   84.9000   86.1391   84.3420   Wednesday  \n",
       "3   59.9775   23767876.0   59.6875   59.9775   59.1800   Wednesday  \n",
       "4  110.7500    7419283.0  109.4700  111.2100  109.2750   Wednesday  "
      ]
     },
     "metadata": {},
     "execution_count": 69
    }
   ],
   "metadata": {}
  },
  {
   "cell_type": "code",
   "execution_count": 70,
   "source": [
    "real_stock_price = dataset_test.loc[:, [\"Open\"]].values\n",
    "real_stock_price"
   ],
   "outputs": [
    {
     "output_type": "execute_result",
     "data": {
      "text/plain": [
       "array([[ 74.06 ],\n",
       "       [158.78 ],\n",
       "       [ 84.9  ],\n",
       "       ...,\n",
       "       [271.55 ],\n",
       "       [214.165],\n",
       "       [271.75 ]])"
      ]
     },
     "metadata": {},
     "execution_count": 70
    }
   ],
   "metadata": {}
  },
  {
   "cell_type": "code",
   "execution_count": 71,
   "source": [
    "# Getting the predicted stock price of 2021\n",
    "dataset_total = pd.concat((dataset_train['Open'], dataset_test['Open']), axis = 0)\n",
    "inputs = dataset_total[len(dataset_total) - len(dataset_test) - timesteps:].values.reshape(-1,1)\n",
    "inputs = scaler.transform(inputs)  # min max scaler\n",
    "#inputs"
   ],
   "outputs": [],
   "metadata": {}
  },
  {
   "cell_type": "code",
   "execution_count": 72,
   "source": [
    "X_test = []\n",
    "for i in range(timesteps, 70):\n",
    "    X_test.append(inputs[i-timesteps:i, 0])\n",
    "X_test = np.array(X_test)\n",
    "X_test = np.reshape(X_test, (X_test.shape[0], X_test.shape[1], 1))\n",
    "predicted_stock_price = regressor.predict(X_test)\n",
    "predicted_stock_price = scaler.inverse_transform(predicted_stock_price)\n",
    "\n",
    "# Visualising the results\n",
    "plt.plot(real_stock_price, color = 'red', label = 'Real Stock Price')\n",
    "plt.plot(predicted_stock_price, color = 'blue', label = 'Predicted Google Stock Price')\n",
    "plt.title(' Stock Price Prediction')\n",
    "plt.xlabel('Time')\n",
    "plt.ylabel('Stock Price')\n",
    "plt.legend()\n",
    "plt.show()"
   ],
   "outputs": [
    {
     "output_type": "display_data",
     "data": {
      "image/png": "[encoded data removed]",
      "text/plain": [
       "<Figure size 432x288 with 1 Axes>"
      ]
     },
     "metadata": {
      "needs_background": "light"
     }
    }
   ],
   "metadata": {}
  },
  {
   "cell_type": "markdown",
   "source": [
    "so this model is not recommanded "
   ],
   "metadata": {}
  },
  {
   "cell_type": "markdown",
   "source": [
    "LSTMs\n"
   ],
   "metadata": {}
  },
  {
   "cell_type": "code",
   "execution_count": 73,
   "source": [
    "import numpy\n",
    "import pandas as pd \n",
    "import matplotlib.pyplot as plt\n",
    "import math\n",
    "from keras.models import Sequential\n",
    "from keras.layers import Dense\n",
    "from keras.layers import LSTM\n",
    "from sklearn.preprocessing import MinMaxScaler\n",
    "from sklearn.metrics import mean_squared_error"
   ],
   "outputs": [],
   "metadata": {}
  },
  {
   "cell_type": "code",
   "execution_count": 74,
   "source": [
    "data = df\n",
    "data.head()"
   ],
   "outputs": [
    {
     "output_type": "execute_result",
     "data": {
      "text/html": [
       "<div>\n",
       "<style scoped>\n",
       "    .dataframe tbody tr th:only-of-type {\n",
       "        vertical-align: middle;\n",
       "    }\n",
       "\n",
       "    .dataframe tbody tr th {\n",
       "        vertical-align: top;\n",
       "    }\n",
       "\n",
       "    .dataframe thead th {\n",
       "        text-align: right;\n",
       "    }\n",
       "</style>\n",
       "<table border=\"1\" class=\"dataframe\">\n",
       "  <thead>\n",
       "    <tr style=\"text-align: right;\">\n",
       "      <th></th>\n",
       "      <th>Year</th>\n",
       "      <th>Month</th>\n",
       "      <th>Day</th>\n",
       "      <th>StockName</th>\n",
       "      <th>Positive</th>\n",
       "      <th>Negative</th>\n",
       "      <th>Neutral</th>\n",
       "      <th>Total Tweets</th>\n",
       "      <th>Close</th>\n",
       "      <th>Volume</th>\n",
       "      <th>Open</th>\n",
       "      <th>High</th>\n",
       "      <th>Low</th>\n",
       "      <th>Day_of_week</th>\n",
       "    </tr>\n",
       "  </thead>\n",
       "  <tbody>\n",
       "    <tr>\n",
       "      <th>0</th>\n",
       "      <td>2020</td>\n",
       "      <td>1</td>\n",
       "      <td>1</td>\n",
       "      <td>apple</td>\n",
       "      <td>10</td>\n",
       "      <td>2</td>\n",
       "      <td>8</td>\n",
       "      <td>20</td>\n",
       "      <td>75.0875</td>\n",
       "      <td>135647440.0</td>\n",
       "      <td>74.0600</td>\n",
       "      <td>75.1500</td>\n",
       "      <td>73.7975</td>\n",
       "      <td>Wednesday</td>\n",
       "    </tr>\n",
       "    <tr>\n",
       "      <th>1</th>\n",
       "      <td>2020</td>\n",
       "      <td>1</td>\n",
       "      <td>1</td>\n",
       "      <td>microsoft</td>\n",
       "      <td>9</td>\n",
       "      <td>0</td>\n",
       "      <td>11</td>\n",
       "      <td>20</td>\n",
       "      <td>160.6200</td>\n",
       "      <td>22634550.0</td>\n",
       "      <td>158.7800</td>\n",
       "      <td>160.7300</td>\n",
       "      <td>158.3300</td>\n",
       "      <td>Wednesday</td>\n",
       "    </tr>\n",
       "    <tr>\n",
       "      <th>2</th>\n",
       "      <td>2020</td>\n",
       "      <td>1</td>\n",
       "      <td>1</td>\n",
       "      <td>tesla</td>\n",
       "      <td>17</td>\n",
       "      <td>3</td>\n",
       "      <td>3</td>\n",
       "      <td>23</td>\n",
       "      <td>86.0520</td>\n",
       "      <td>47791930.0</td>\n",
       "      <td>84.9000</td>\n",
       "      <td>86.1391</td>\n",
       "      <td>84.3420</td>\n",
       "      <td>Wednesday</td>\n",
       "    </tr>\n",
       "    <tr>\n",
       "      <th>3</th>\n",
       "      <td>2020</td>\n",
       "      <td>1</td>\n",
       "      <td>1</td>\n",
       "      <td>nvidia</td>\n",
       "      <td>1</td>\n",
       "      <td>0</td>\n",
       "      <td>0</td>\n",
       "      <td>1</td>\n",
       "      <td>59.9775</td>\n",
       "      <td>23767876.0</td>\n",
       "      <td>59.6875</td>\n",
       "      <td>59.9775</td>\n",
       "      <td>59.1800</td>\n",
       "      <td>Wednesday</td>\n",
       "    </tr>\n",
       "    <tr>\n",
       "      <th>4</th>\n",
       "      <td>2020</td>\n",
       "      <td>1</td>\n",
       "      <td>1</td>\n",
       "      <td>paypal</td>\n",
       "      <td>1</td>\n",
       "      <td>0</td>\n",
       "      <td>1</td>\n",
       "      <td>2</td>\n",
       "      <td>110.7500</td>\n",
       "      <td>7419283.0</td>\n",
       "      <td>109.4700</td>\n",
       "      <td>111.2100</td>\n",
       "      <td>109.2750</td>\n",
       "      <td>Wednesday</td>\n",
       "    </tr>\n",
       "  </tbody>\n",
       "</table>\n",
       "</div>"
      ],
      "text/plain": [
       "   Year  Month  Day  StockName  Positive  Negative  Neutral  Total Tweets  \\\n",
       "0  2020      1    1      apple        10         2        8            20   \n",
       "1  2020      1    1  microsoft         9         0       11            20   \n",
       "2  2020      1    1      tesla        17         3        3            23   \n",
       "3  2020      1    1     nvidia         1         0        0             1   \n",
       "4  2020      1    1     paypal         1         0        1             2   \n",
       "\n",
       "      Close       Volume      Open      High       Low Day_of_week  \n",
       "0   75.0875  135647440.0   74.0600   75.1500   73.7975   Wednesday  \n",
       "1  160.6200   22634550.0  158.7800  160.7300  158.3300   Wednesday  \n",
       "2   86.0520   47791930.0   84.9000   86.1391   84.3420   Wednesday  \n",
       "3   59.9775   23767876.0   59.6875   59.9775   59.1800   Wednesday  \n",
       "4  110.7500    7419283.0  109.4700  111.2100  109.2750   Wednesday  "
      ]
     },
     "metadata": {},
     "execution_count": 74
    }
   ],
   "metadata": {}
  },
  {
   "cell_type": "code",
   "execution_count": null,
   "source": [
    "dataset=df\n",
    "plt.plot(dataset)\n",
    "plt.xlabel(\"stockname\")\n",
    "plt.ylabel(\"Close\")\n",
    "plt.show()"
   ],
   "outputs": [],
   "metadata": {}
  },
  {
   "cell_type": "code",
   "execution_count": 76,
   "source": [
    "dataset = dataset.reshape(-1,1)\n",
    "dataset = dataset.astype(\"float32\")\n",
    "dataset.shape"
   ],
   "outputs": [
    {
     "output_type": "execute_result",
     "data": {
      "text/plain": [
       "(2983, 1)"
      ]
     },
     "metadata": {},
     "execution_count": 76
    }
   ],
   "metadata": {}
  },
  {
   "cell_type": "code",
   "execution_count": 77,
   "source": [
    "# scaling \n",
    "scaler = MinMaxScaler(feature_range=(0, 1))\n",
    "dataset = scaler.fit_transform(dataset)"
   ],
   "outputs": [],
   "metadata": {}
  },
  {
   "cell_type": "code",
   "execution_count": 78,
   "source": [
    "train_size = int(len(dataset) * 0.50)\n",
    "test_size = len(dataset) - train_size\n",
    "train = dataset[0:train_size,:]\n",
    "test = dataset[train_size:len(dataset),:]\n",
    "print(\"train size: {}, test size: {} \".format(len(train), len(test)))"
   ],
   "outputs": [
    {
     "output_type": "stream",
     "name": "stdout",
     "text": [
      "train size: 1491, test size: 1492 \n"
     ]
    }
   ],
   "metadata": {}
  },
  {
   "cell_type": "code",
   "execution_count": 79,
   "source": [
    "time_stemp = 10\n",
    "dataX = []\n",
    "dataY = []\n",
    "for i in range(len(train)-time_stemp-1):\n",
    "    a = train[i:(i+time_stemp), 0]\n",
    "    dataX.append(a)\n",
    "    dataY.append(train[i + time_stemp, 0])\n",
    "trainX = numpy.array(dataX)\n",
    "trainY = numpy.array(dataY)  "
   ],
   "outputs": [],
   "metadata": {}
  },
  {
   "cell_type": "code",
   "execution_count": 80,
   "source": [
    "dataX = []\n",
    "dataY = []\n",
    "for i in range(len(test)-time_stemp-1):\n",
    "    a = test[i:(i+time_stemp), 0]\n",
    "    dataX.append(a)\n",
    "    dataY.append(test[i + time_stemp, 0])\n",
    "testX = numpy.array(dataX)\n",
    "testY = numpy.array(dataY)  "
   ],
   "outputs": [],
   "metadata": {}
  },
  {
   "cell_type": "code",
   "execution_count": 81,
   "source": [
    "trainX = numpy.reshape(trainX, (trainX.shape[0], 1, trainX.shape[1]))\n",
    "testX = numpy.reshape(testX, (testX.shape[0], 1, testX.shape[1]))"
   ],
   "outputs": [],
   "metadata": {}
  },
  {
   "cell_type": "code",
   "execution_count": 82,
   "source": [
    "# model\n",
    "model = Sequential()\n",
    "model.add(LSTM(10, input_shape=(1, time_stemp))) # 10 lstm neuron(block)\n",
    "model.add(Dense(1))\n",
    "model.compile(loss='mean_squared_error', optimizer='adam',metrics=['accuracy'])\n",
    "model.fit(trainX, trainY, epochs=50, batch_size=1)"
   ],
   "outputs": [
    {
     "output_type": "stream",
     "name": "stdout",
     "text": [
      "Epoch 1/50\n",
      "1480/1480 [==============================] - 2s 840us/step - loss: 0.0112 - accuracy: 0.0919\n",
      "Epoch 2/50\n",
      "1480/1480 [==============================] - 1s 835us/step - loss: 2.9935e-04 - accuracy: 0.0919\n",
      "Epoch 3/50\n",
      "1480/1480 [==============================] - 1s 844us/step - loss: 2.9660e-04 - accuracy: 0.0919\n",
      "Epoch 4/50\n",
      "1480/1480 [==============================] - 1s 852us/step - loss: 2.4943e-04 - accuracy: 0.0919\n",
      "Epoch 5/50\n",
      "1480/1480 [==============================] - 1s 858us/step - loss: 2.2720e-04 - accuracy: 0.0919\n",
      "Epoch 6/50\n",
      "1480/1480 [==============================] - 1s 860us/step - loss: 2.1071e-04 - accuracy: 0.0919\n",
      "Epoch 7/50\n",
      "1480/1480 [==============================] - 1s 860us/step - loss: 1.9247e-04 - accuracy: 0.0919\n",
      "Epoch 8/50\n",
      "1480/1480 [==============================] - 1s 952us/step - loss: 1.8594e-04 - accuracy: 0.0919\n",
      "Epoch 9/50\n",
      "1480/1480 [==============================] - 1s 842us/step - loss: 1.5544e-04 - accuracy: 0.0919\n",
      "Epoch 10/50\n",
      "1480/1480 [==============================] - 1s 843us/step - loss: 1.7230e-04 - accuracy: 0.0919\n",
      "Epoch 11/50\n",
      "1480/1480 [==============================] - 1s 846us/step - loss: 1.5413e-04 - accuracy: 0.0919\n",
      "Epoch 12/50\n",
      "1480/1480 [==============================] - 1s 831us/step - loss: 1.4792e-04 - accuracy: 0.0919\n",
      "Epoch 13/50\n",
      "1480/1480 [==============================] - 1s 827us/step - loss: 1.5145e-04 - accuracy: 0.0919\n",
      "Epoch 14/50\n",
      "1480/1480 [==============================] - 1s 841us/step - loss: 1.5863e-04 - accuracy: 0.0919\n",
      "Epoch 15/50\n",
      "1480/1480 [==============================] - 1s 831us/step - loss: 1.4841e-04 - accuracy: 0.0919\n",
      "Epoch 16/50\n",
      "1480/1480 [==============================] - 1s 937us/step - loss: 1.2404e-04 - accuracy: 0.0919\n",
      "Epoch 17/50\n",
      "1480/1480 [==============================] - 1s 901us/step - loss: 1.4941e-04 - accuracy: 0.0919\n",
      "Epoch 18/50\n",
      "1480/1480 [==============================] - 1s 848us/step - loss: 1.2671e-04 - accuracy: 0.0919\n",
      "Epoch 19/50\n",
      "1480/1480 [==============================] - 1s 847us/step - loss: 1.2709e-04 - accuracy: 0.0919\n",
      "Epoch 20/50\n",
      "1480/1480 [==============================] - 1s 849us/step - loss: 1.1855e-04 - accuracy: 0.0919\n",
      "Epoch 21/50\n",
      "1480/1480 [==============================] - 1s 850us/step - loss: 1.3031e-04 - accuracy: 0.0919\n",
      "Epoch 22/50\n",
      "1480/1480 [==============================] - 1s 854us/step - loss: 1.2794e-04 - accuracy: 0.0919\n",
      "Epoch 23/50\n",
      "1480/1480 [==============================] - 1s 849us/step - loss: 1.1210e-04 - accuracy: 0.0919\n",
      "Epoch 24/50\n",
      "1480/1480 [==============================] - 1s 851us/step - loss: 1.2115e-04 - accuracy: 0.0919\n",
      "Epoch 25/50\n",
      "1480/1480 [==============================] - 1s 845us/step - loss: 1.0895e-04 - accuracy: 0.0919\n",
      "Epoch 26/50\n",
      "1480/1480 [==============================] - 1s 853us/step - loss: 1.3916e-04 - accuracy: 0.0919\n",
      "Epoch 27/50\n",
      "1480/1480 [==============================] - 1s 856us/step - loss: 1.0919e-04 - accuracy: 0.0919\n",
      "Epoch 28/50\n",
      "1480/1480 [==============================] - 1s 855us/step - loss: 1.0576e-04 - accuracy: 0.0919\n",
      "Epoch 29/50\n",
      "1480/1480 [==============================] - 1s 858us/step - loss: 1.1164e-04 - accuracy: 0.0919\n",
      "Epoch 30/50\n",
      "1480/1480 [==============================] - 1s 853us/step - loss: 1.2289e-04 - accuracy: 0.0919\n",
      "Epoch 31/50\n",
      "1480/1480 [==============================] - 1s 851us/step - loss: 1.0845e-04 - accuracy: 0.0919\n",
      "Epoch 32/50\n",
      "1480/1480 [==============================] - 1s 865us/step - loss: 9.9800e-05 - accuracy: 0.0919\n",
      "Epoch 33/50\n",
      "1480/1480 [==============================] - 1s 862us/step - loss: 1.2072e-04 - accuracy: 0.0919\n",
      "Epoch 34/50\n",
      "1480/1480 [==============================] - 1s 879us/step - loss: 1.0534e-04 - accuracy: 0.0919\n",
      "Epoch 35/50\n",
      "1480/1480 [==============================] - 1s 853us/step - loss: 1.0792e-04 - accuracy: 0.0919\n",
      "Epoch 36/50\n",
      "1480/1480 [==============================] - 1s 856us/step - loss: 1.0749e-04 - accuracy: 0.0919\n",
      "Epoch 37/50\n",
      "1480/1480 [==============================] - 1s 857us/step - loss: 9.8968e-05 - accuracy: 0.0919\n",
      "Epoch 38/50\n",
      "1480/1480 [==============================] - 1s 864us/step - loss: 1.0025e-04 - accuracy: 0.0919\n",
      "Epoch 39/50\n",
      "1480/1480 [==============================] - 1s 863us/step - loss: 1.1358e-04 - accuracy: 0.0919\n",
      "Epoch 40/50\n",
      "1480/1480 [==============================] - 1s 858us/step - loss: 1.0701e-04 - accuracy: 0.0919\n",
      "Epoch 41/50\n",
      "1480/1480 [==============================] - 1s 856us/step - loss: 9.7541e-05 - accuracy: 0.0919\n",
      "Epoch 42/50\n",
      "1480/1480 [==============================] - 1s 857us/step - loss: 1.0260e-04 - accuracy: 0.0919\n",
      "Epoch 43/50\n",
      "1480/1480 [==============================] - 1s 856us/step - loss: 1.0843e-04 - accuracy: 0.0919\n",
      "Epoch 44/50\n",
      "1480/1480 [==============================] - 1s 869us/step - loss: 1.0845e-04 - accuracy: 0.0919\n",
      "Epoch 45/50\n",
      "1480/1480 [==============================] - 1s 864us/step - loss: 1.0984e-04 - accuracy: 0.0919\n",
      "Epoch 46/50\n",
      "1480/1480 [==============================] - 1s 849us/step - loss: 1.0681e-04 - accuracy: 0.0919\n",
      "Epoch 47/50\n",
      "1480/1480 [==============================] - 1s 849us/step - loss: 9.6414e-05 - accuracy: 0.0919\n",
      "Epoch 48/50\n",
      "1480/1480 [==============================] - 1s 847us/step - loss: 9.5304e-05 - accuracy: 0.0919\n",
      "Epoch 49/50\n",
      "1480/1480 [==============================] - 1s 845us/step - loss: 9.9365e-05 - accuracy: 0.0919\n",
      "Epoch 50/50\n",
      "1480/1480 [==============================] - 1s 859us/step - loss: 9.9907e-05 - accuracy: 0.0919\n"
     ]
    },
    {
     "output_type": "execute_result",
     "data": {
      "text/plain": [
       "<keras.callbacks.History at 0x7fcdb92cd6d0>"
      ]
     },
     "metadata": {},
     "execution_count": 82
    }
   ],
   "metadata": {}
  },
  {
   "cell_type": "code",
   "execution_count": 83,
   "source": [
    "trainPredict = model.predict(trainX)\n",
    "testPredict = model.predict(testX)\n",
    "# invert predictions\n",
    "trainPredict = scaler.inverse_transform(trainPredict)\n",
    "trainY = scaler.inverse_transform([trainY])\n",
    "testPredict = scaler.inverse_transform(testPredict)\n",
    "testY = scaler.inverse_transform([testY])\n",
    "# calculate root mean squared error\n",
    "trainScore = math.sqrt(mean_squared_error(trainY[0], trainPredict[:,0]))\n",
    "print('Train Score: %.2f RMSE' % (trainScore))\n",
    "testScore = math.sqrt(mean_squared_error(testY[0], testPredict[:,0]))\n",
    "print('Test Score: %.2f RMSE' % (testScore))"
   ],
   "outputs": [
    {
     "output_type": "stream",
     "name": "stdout",
     "text": [
      "Train Score: 0.12 RMSE\n",
      "Test Score: 0.34 RMSE\n"
     ]
    }
   ],
   "metadata": {}
  },
  {
   "cell_type": "code",
   "execution_count": null,
   "source": [
    "# shifting train\n",
    "trainPredictPlot = numpy.empty_like(dataset)\n",
    "trainPredictPlot[:, :] = numpy.nan\n",
    "trainPredictPlot[time_stemp:len(trainPredict)+time_stemp, :] = trainPredict\n",
    "# shifting test predictions for plotting\n",
    "testPredictPlot = numpy.empty_like(dataset)\n",
    "testPredictPlot[:, :] = numpy.nan\n",
    "testPredictPlot[len(trainPredict)+(time_stemp*2)+1:len(dataset)-1, :] = testPredict\n",
    "# plot baseline and predictions\n",
    "plt.plot(scaler.inverse_transform(dataset))\n",
    "plt.plot(trainPredictPlot)\n",
    "plt.plot(testPredictPlot)\n",
    "plt.show()"
   ],
   "outputs": [],
   "metadata": {}
  }
 ],
 "metadata": {
  "kernelspec": {
   "name": "python3",
   "display_name": "Python 3.8.8 64-bit ('base': conda)"
  },
  "language_info": {
   "codemirror_mode": {
    "name": "ipython",
    "version": 3
   },
   "file_extension": ".py",
   "mimetype": "text/x-python",
   "name": "python",
   "nbconvert_exporter": "python",
   "pygments_lexer": "ipython3",
   "version": "3.8.8"
  },
  "interpreter": {
   "hash": "d1517d6daa919a7c6665135e311042068b375e660c838512ed3b11ae7e68eb8a"
  }
 },
 "nbformat": 4,
 "nbformat_minor": 4
}